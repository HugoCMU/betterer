{
 "cells": [
  {
   "cell_type": "markdown",
   "metadata": {},
   "source": [
    "Show me three ways to fetch every 3rd item in a list"
   ]
  },
  {
   "cell_type": "code",
   "execution_count": 1,
   "metadata": {
    "ExecuteTime": {
     "end_time": "2018-02-07T14:40:03.465414Z",
     "start_time": "2018-02-07T14:40:03.455258Z"
    }
   },
   "outputs": [],
   "source": [
    "# First, we create the list\n",
    "a = list(range(18))"
   ]
  },
  {
   "cell_type": "code",
   "execution_count": 3,
   "metadata": {
    "ExecuteTime": {
     "end_time": "2018-02-07T14:40:29.598195Z",
     "start_time": "2018-02-07T14:40:29.593100Z"
    }
   },
   "outputs": [
    {
     "name": "stdout",
     "output_type": "stream",
     "text": [
      "[0, 3, 6, 9, 12, 15]\n"
     ]
    }
   ],
   "source": [
    "# Slicing\n",
    "b = a[::3]\n",
    "print(b)"
   ]
  },
  {
   "cell_type": "code",
   "execution_count": 4,
   "metadata": {
    "ExecuteTime": {
     "end_time": "2018-02-07T14:41:15.069499Z",
     "start_time": "2018-02-07T14:41:15.064362Z"
    }
   },
   "outputs": [
    {
     "name": "stdout",
     "output_type": "stream",
     "text": [
      "[0, 3, 6, 9, 12, 15]\n"
     ]
    }
   ],
   "source": [
    "# List comprehension\n",
    "b = [x for i, x in enumerate(a) if i % 3 == 0]\n",
    "print(b)"
   ]
  },
  {
   "cell_type": "code",
   "execution_count": 5,
   "metadata": {
    "ExecuteTime": {
     "end_time": "2018-02-07T14:42:23.485201Z",
     "start_time": "2018-02-07T14:42:23.475288Z"
    }
   },
   "outputs": [
    {
     "name": "stdout",
     "output_type": "stream",
     "text": [
      "[0, 3, 6, 9, 12, 15]\n"
     ]
    }
   ],
   "source": [
    "# For loop\n",
    "counter = 0\n",
    "b = []\n",
    "while counter < len(a):\n",
    "    b.append(a[counter])\n",
    "    counter += 3\n",
    "print(b)"
   ]
  }
 ],
 "metadata": {
  "kernelspec": {
   "display_name": "Python [conda env:vectorize]",
   "language": "python",
   "name": "conda-env-vectorize-py"
  },
  "language_info": {
   "codemirror_mode": {
    "name": "ipython",
    "version": 3
   },
   "file_extension": ".py",
   "mimetype": "text/x-python",
   "name": "python",
   "nbconvert_exporter": "python",
   "pygments_lexer": "ipython3",
   "version": "3.5.4"
  }
 },
 "nbformat": 4,
 "nbformat_minor": 2
}
