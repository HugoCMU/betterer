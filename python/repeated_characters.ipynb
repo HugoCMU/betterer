{
 "cells": [
  {
   "cell_type": "markdown",
   "metadata": {},
   "source": [
    "### Longest List of Repeated Characters in a String"
   ]
  },
  {
   "cell_type": "code",
   "execution_count": 10,
   "metadata": {
    "ExecuteTime": {
     "end_time": "2018-02-07T14:59:03.849976Z",
     "start_time": "2018-02-07T14:59:03.803703Z"
    }
   },
   "outputs": [
    {
     "name": "stdout",
     "output_type": "stream",
     "text": [
      "i: 0, counter: 1, max_counter: 1, \n",
      "counter = 0\n",
      "i: 1, counter: 1, max_counter: 1, \n",
      "counter + 1\n",
      "max counter = 2\n",
      "i: 2, counter: 2, max_counter: 2, \n",
      "counter = 0\n",
      "i: 3, counter: 1, max_counter: 2, \n",
      "counter + 1\n",
      "i: 4, counter: 2, max_counter: 2, \n",
      "counter + 1\n",
      "max counter = 3\n",
      "i: 5, counter: 3, max_counter: 3, \n",
      "counter = 0\n",
      "i: 6, counter: 1, max_counter: 3, \n",
      "counter + 1\n",
      "i: 7, counter: 2, max_counter: 3, \n",
      "counter = 0\n",
      "i: 8, counter: 1, max_counter: 3, \n",
      "counter = 0\n",
      "i: 9, counter: 1, max_counter: 3, \n",
      "counter = 0\n"
     ]
    },
    {
     "data": {
      "text/plain": [
       "['c', 'c', 'c']"
      ]
     },
     "execution_count": 10,
     "metadata": {},
     "output_type": "execute_result"
    }
   ],
   "source": [
    "s = 'abbcccddef1'\n",
    "\n",
    "char = ''\n",
    "counter = 1\n",
    "max_counter = 1\n",
    "max_char = ''\n",
    "for i in range(len(s)-1):\n",
    "    print(\"i: %s, counter: %s, max_counter: %s, \" % (i, counter, max_counter))\n",
    "    if(s[i+1] == s[i]):\n",
    "        counter += 1\n",
    "        print(\"counter + 1\")\n",
    "    else:\n",
    "        counter = 1\n",
    "        print('counter = 0')\n",
    "    if counter > max_counter:\n",
    "        max_char = s[i]\n",
    "        max_counter = counter\n",
    "        print('max counter = %s' % max_counter)\n",
    "\n",
    "        \n",
    "longest_list = list(max_char for _ in range(max_counter))\n",
    "longest_list"
   ]
  },
  {
   "cell_type": "code",
   "execution_count": 11,
   "metadata": {
    "ExecuteTime": {
     "end_time": "2018-02-07T15:02:09.507147Z",
     "start_time": "2018-02-07T15:02:09.476644Z"
    }
   },
   "outputs": [
    {
     "data": {
      "text/plain": [
       "['c', 'c', 'c']"
      ]
     },
     "execution_count": 11,
     "metadata": {},
     "output_type": "execute_result"
    }
   ],
   "source": [
    "# Now lets try and condense this algorithm\n",
    "s = 'abbcccddef1'\n",
    "\n",
    "char = ''\n",
    "counter = 1\n",
    "max_counter = 1\n",
    "for i in range(len(s)-1):\n",
    "    counter = counter + 1 if s[i+1] == s[i] else 1\n",
    "    if counter > max_counter:\n",
    "        char, max_counter = s[i], counter\n",
    "        \n",
    "longest_list = list(char for _ in range(max_counter))\n",
    "longest_list"
   ]
  }
 ],
 "metadata": {
  "kernelspec": {
   "display_name": "Python [conda env:vectorize]",
   "language": "python",
   "name": "conda-env-vectorize-py"
  },
  "language_info": {
   "codemirror_mode": {
    "name": "ipython",
    "version": 3
   },
   "file_extension": ".py",
   "mimetype": "text/x-python",
   "name": "python",
   "nbconvert_exporter": "python",
   "pygments_lexer": "ipython3",
   "version": "3.5.4"
  }
 },
 "nbformat": 4,
 "nbformat_minor": 2
}
