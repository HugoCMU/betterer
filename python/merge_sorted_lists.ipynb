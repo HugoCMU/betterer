{
 "cells": [
  {
   "cell_type": "markdown",
   "metadata": {
    "ExecuteTime": {
     "end_time": "2018-02-05T16:48:20.288623Z",
     "start_time": "2018-02-05T16:48:20.274028Z"
    }
   },
   "source": [
    "### Merge two sorted lists\n",
    "\n",
    "We have two sorted lists, and we want to write a function to merge the two lists into one sorted list\n",
    "\n",
    "Source:\n",
    "- [1] http://www.bogotobogo.com/python/python_interview_questions.php"
   ]
  },
  {
   "cell_type": "code",
   "execution_count": 7,
   "metadata": {
    "ExecuteTime": {
     "end_time": "2018-02-05T16:52:17.852795Z",
     "start_time": "2018-02-05T16:52:17.833662Z"
    }
   },
   "outputs": [],
   "source": [
    "a = [3, 4, 6, 10, 11, 18]\n",
    "b = [1, 5, 7, 12, 13, 19, 21]\n",
    "\n",
    "# Pythonic\n",
    "def merge_and_sort(list_a, list_b):\n",
    "    return sorted(list_a + list_b)\n",
    "\n",
    "# Lower and faster\n",
    "def merge_and_sort_2(list_a, list_b):\n",
    "    c = []\n",
    "    while a and b:\n",
    "        if a[0] < b[0]:\n",
    "            c.append(a.pop(0))\n",
    "        else:\n",
    "            c.append(b.pop(0))\n",
    "    return c"
   ]
  },
  {
   "cell_type": "code",
   "execution_count": 16,
   "metadata": {
    "ExecuteTime": {
     "end_time": "2018-02-05T16:52:45.690689Z",
     "start_time": "2018-02-05T16:52:40.489696Z"
    }
   },
   "outputs": [
    {
     "name": "stdout",
     "output_type": "stream",
     "text": [
      "639 ns ± 14.5 ns per loop (mean ± std. dev. of 7 runs, 1000000 loops each)\n"
     ]
    }
   ],
   "source": [
    "%timeit(merge_and_sort(a, b))"
   ]
  },
  {
   "cell_type": "code",
   "execution_count": 17,
   "metadata": {
    "ExecuteTime": {
     "end_time": "2018-02-05T16:53:00.630360Z",
     "start_time": "2018-02-05T16:52:58.906717Z"
    }
   },
   "outputs": [
    {
     "name": "stdout",
     "output_type": "stream",
     "text": [
      "212 ns ± 0.785 ns per loop (mean ± std. dev. of 7 runs, 1000000 loops each)\n"
     ]
    }
   ],
   "source": [
    "%timeit(merge_and_sort_2(a,b))"
   ]
  },
  {
   "cell_type": "code",
   "execution_count": null,
   "metadata": {},
   "outputs": [],
   "source": []
  }
 ],
 "metadata": {
  "kernelspec": {
   "display_name": "Python [conda env:vectorize]",
   "language": "python",
   "name": "conda-env-vectorize-py"
  },
  "language_info": {
   "codemirror_mode": {
    "name": "ipython",
    "version": 3
   },
   "file_extension": ".py",
   "mimetype": "text/x-python",
   "name": "python",
   "nbconvert_exporter": "python",
   "pygments_lexer": "ipython3",
   "version": "3.5.4"
  }
 },
 "nbformat": 4,
 "nbformat_minor": 2
}
