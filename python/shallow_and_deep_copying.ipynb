{
 "cells": [
  {
   "cell_type": "markdown",
   "metadata": {},
   "source": [
    "## Shallow vs Deep Copying of Python Objects\n",
    "\n",
    "Sources:\n",
    " - [1] https://realpython.com/copying-python-objects/"
   ]
  },
  {
   "cell_type": "code",
   "execution_count": 2,
   "metadata": {
    "ExecuteTime": {
     "end_time": "2018-03-27T00:26:42.202917Z",
     "start_time": "2018-03-27T00:26:42.197363Z"
    }
   },
   "outputs": [
    {
     "name": "stdout",
     "output_type": "stream",
     "text": [
      "a [1, 2, 3]\n",
      "a_copy [5, 2, 3]\n"
     ]
    }
   ],
   "source": [
    "# The build in mutable types can be copied by calling their factory functions\n",
    "\n",
    "a = [1, 2, 3]\n",
    "a_copy = list(a)\n",
    "\n",
    "a_copy[0] = 5\n",
    "\n",
    "print('a', a)\n",
    "print('a_copy', a_copy)\n",
    "\n",
    "# Note that this works for the other mutable types: dict, set"
   ]
  },
  {
   "cell_type": "markdown",
   "metadata": {},
   "source": [
    "However, this only creates *shallow* copies. Shallow copies construct a new object but populate it with references of the child objects found in the original.\n",
    "\n",
    "Deep copying means recursively copying every child object of an object to create a fully independent new object."
   ]
  },
  {
   "cell_type": "code",
   "execution_count": 3,
   "metadata": {
    "ExecuteTime": {
     "end_time": "2018-03-27T00:29:50.319796Z",
     "start_time": "2018-03-27T00:29:50.313841Z"
    }
   },
   "outputs": [
    {
     "name": "stdout",
     "output_type": "stream",
     "text": [
      "xs:  [[1, 2, 3], [4, 5, 6], [7, 8, 9]]\n",
      "ys:  [[1, 2, 3], [4, 5, 6], [7, 8, 9]]\n"
     ]
    }
   ],
   "source": [
    "# Lets make a list\n",
    "xs = [[1, 2, 3], [4, 5, 6], [7, 8, 9]]\n",
    "\n",
    "# Make a shallow copy\n",
    "ys = list(xs)\n",
    "\n",
    "print('xs: ', xs)\n",
    "print('ys: ', ys)"
   ]
  },
  {
   "cell_type": "code",
   "execution_count": 4,
   "metadata": {
    "ExecuteTime": {
     "end_time": "2018-03-27T00:30:48.234117Z",
     "start_time": "2018-03-27T00:30:48.229649Z"
    }
   },
   "outputs": [
    {
     "name": "stdout",
     "output_type": "stream",
     "text": [
      "xs:  [[1, 2, 3], [4, 5, 6], [7, 8, 9], [1, 2, 3]]\n",
      "ys:  [[1, 2, 3], [4, 5, 6], [7, 8, 9]]\n"
     ]
    }
   ],
   "source": [
    "# Appending a new item to the original list will\n",
    "# not affect the shallow copy\n",
    "xs.append([1, 2, 3])\n",
    "\n",
    "print('xs: ', xs)\n",
    "print('ys: ', ys)"
   ]
  },
  {
   "cell_type": "code",
   "execution_count": 6,
   "metadata": {
    "ExecuteTime": {
     "end_time": "2018-03-27T00:31:50.659018Z",
     "start_time": "2018-03-27T00:31:50.651324Z"
    }
   },
   "outputs": [
    {
     "name": "stdout",
     "output_type": "stream",
     "text": [
      "xs:  [[1, 'hacked', 3], [4, 5, 6], [7, 8, 9], [1, 2, 3]]\n",
      "ys:  [[1, 'hacked', 3], [4, 5, 6], [7, 8, 9]]\n"
     ]
    }
   ],
   "source": [
    "# However, this is a shallow copy, so the items are really\n",
    "# just references to the children in the original\n",
    "xs[0][1] = 'hacked'\n",
    "\n",
    "print('xs: ', xs)\n",
    "print('ys: ', ys)"
   ]
  },
  {
   "cell_type": "markdown",
   "metadata": {},
   "source": [
    "So how do we make deep copies?"
   ]
  },
  {
   "cell_type": "code",
   "execution_count": 10,
   "metadata": {
    "ExecuteTime": {
     "end_time": "2018-03-27T00:33:20.540734Z",
     "start_time": "2018-03-27T00:33:20.532548Z"
    }
   },
   "outputs": [
    {
     "name": "stdout",
     "output_type": "stream",
     "text": [
      "xs:  [[1, 2, 3], [4, 5, 6], [7, 8, 9]]\n",
      "ys:  [[1, 2, 3], [4, 5, 6], [7, 8, 9]]\n"
     ]
    }
   ],
   "source": [
    "import copy\n",
    "\n",
    "# Make a list\n",
    "xs = [[1, 2, 3], [4, 5, 6], [7, 8, 9]]\n",
    "\n",
    "# Make a deep copy\n",
    "ys = copy.deepcopy(xs)\n",
    "\n",
    "print('xs: ', xs)\n",
    "print('ys: ', ys)"
   ]
  },
  {
   "cell_type": "code",
   "execution_count": 11,
   "metadata": {
    "ExecuteTime": {
     "end_time": "2018-03-27T00:33:39.681747Z",
     "start_time": "2018-03-27T00:33:39.677595Z"
    }
   },
   "outputs": [
    {
     "name": "stdout",
     "output_type": "stream",
     "text": [
      "xs:  [[1, 'hacked', 3], [4, 5, 6], [7, 8, 9]]\n",
      "ys:  [[1, 2, 3], [4, 5, 6], [7, 8, 9]]\n"
     ]
    }
   ],
   "source": [
    "# Deep copy is no longer affected be changes in the original\n",
    "xs[0][1] = 'hacked'\n",
    "\n",
    "print('xs: ', xs)\n",
    "print('ys: ', ys)"
   ]
  },
  {
   "cell_type": "markdown",
   "metadata": {},
   "source": [
    "What is the behavior of copying for arbitrary python objects like classes?"
   ]
  },
  {
   "cell_type": "code",
   "execution_count": 17,
   "metadata": {
    "ExecuteTime": {
     "end_time": "2018-03-27T00:37:25.101232Z",
     "start_time": "2018-03-27T00:37:25.093140Z"
    }
   },
   "outputs": [],
   "source": [
    "# Lets make a simple python class\n",
    "class Point:    \n",
    "    def __init__(self, x, y):\n",
    "        self.x = x\n",
    "        self.y = y\n",
    "        \n",
    "    def __repr__(self):\n",
    "        return 'Point(%r, %r)' % (self.x, self.y)"
   ]
  },
  {
   "cell_type": "code",
   "execution_count": 19,
   "metadata": {
    "ExecuteTime": {
     "end_time": "2018-03-27T00:38:30.478851Z",
     "start_time": "2018-03-27T00:38:30.471561Z"
    }
   },
   "outputs": [
    {
     "name": "stdout",
     "output_type": "stream",
     "text": [
      "a Point(23, 42)\n",
      "b Point(23, 42)\n",
      "a is b False\n"
     ]
    }
   ],
   "source": [
    "# Now lets create an instance and make a shallow copy\n",
    "a = Point(23, 42)\n",
    "b = copy.copy(a)\n",
    "\n",
    "print('a', a)\n",
    "print('b', b)\n",
    "print('a is b', a is b)"
   ]
  },
  {
   "cell_type": "code",
   "execution_count": 20,
   "metadata": {
    "ExecuteTime": {
     "end_time": "2018-03-27T00:40:50.235749Z",
     "start_time": "2018-03-27T00:40:50.225209Z"
    }
   },
   "outputs": [],
   "source": [
    "# Now lets make a class that uses the previous Point class as properties\n",
    "class Rectangle:\n",
    "    def __init__(self, p1, p2):\n",
    "        self.p1 = p1\n",
    "        self.p2 = p2\n",
    "    \n",
    "    def __repr__(self):\n",
    "        return 'Rectangle(%r, %r)' % (self.p1, self.p2)"
   ]
  },
  {
   "cell_type": "code",
   "execution_count": 21,
   "metadata": {
    "ExecuteTime": {
     "end_time": "2018-03-27T00:42:09.416218Z",
     "start_time": "2018-03-27T00:42:09.410988Z"
    }
   },
   "outputs": [
    {
     "name": "stdout",
     "output_type": "stream",
     "text": [
      "rect Rectangle(Point(0, 1), Point(5, 6))\n",
      "srect Rectangle(Point(0, 1), Point(5, 6))\n",
      "rect is srect False\n"
     ]
    }
   ],
   "source": [
    "# Lets create an instance and shallow copy it\n",
    "rect = Rectangle(Point(0, 1), Point(5, 6))\n",
    "srect = copy.copy(rect)\n",
    "\n",
    "print('rect', rect)\n",
    "print('srect', srect)\n",
    "print('rect is srect', rect is srect)"
   ]
  },
  {
   "cell_type": "code",
   "execution_count": 23,
   "metadata": {
    "ExecuteTime": {
     "end_time": "2018-03-27T00:48:31.340413Z",
     "start_time": "2018-03-27T00:48:31.335712Z"
    }
   },
   "outputs": [
    {
     "name": "stdout",
     "output_type": "stream",
     "text": [
      "rect Rectangle(Point(999, 1), Point(5, 6))\n",
      "srect Rectangle(Point(999, 1), Point(5, 6))\n",
      "rect is srect False\n"
     ]
    }
   ],
   "source": [
    "# Lets modify one of the nested properties of the rectangle object\n",
    "rect.p1.x = 999\n",
    "\n",
    "print('rect', rect)\n",
    "print('srect', srect)\n",
    "print('rect is srect', rect is srect)"
   ]
  }
 ],
 "metadata": {
  "kernelspec": {
   "display_name": "Python [conda env:vectorize]",
   "language": "python",
   "name": "conda-env-vectorize-py"
  },
  "language_info": {
   "codemirror_mode": {
    "name": "ipython",
    "version": 3
   },
   "file_extension": ".py",
   "mimetype": "text/x-python",
   "name": "python",
   "nbconvert_exporter": "python",
   "pygments_lexer": "ipython3",
   "version": "3.5.4"
  }
 },
 "nbformat": 4,
 "nbformat_minor": 2
}
