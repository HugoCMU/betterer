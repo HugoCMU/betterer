{
 "cells": [
  {
   "cell_type": "markdown",
   "metadata": {},
   "source": [
    "## Named Tuples\n",
    "\n",
    "Some best practices regarding named tuples in Python, this comes from:\n",
    "\n",
    " - [1] https://dbader.org/blog/writing-clean-python-with-namedtuples"
   ]
  },
  {
   "cell_type": "code",
   "execution_count": 1,
   "metadata": {
    "ExecuteTime": {
     "end_time": "2018-02-15T01:18:10.697594Z",
     "start_time": "2018-02-15T01:18:10.691518Z"
    }
   },
   "outputs": [
    {
     "name": "stdout",
     "output_type": "stream",
     "text": [
      "('hello', <object object at 0x7fd459ebd450>, 42)\n",
      "Got an error trying to assign wrong datatype: 'tuple' object does not support item assignment\n"
     ]
    }
   ],
   "source": [
    "# Tuples can be used to group together arbitrary objects.\n",
    "tup = ('hello', object(), 42)\n",
    "print(tup)\n",
    "\n",
    "# Tuples are also immutable\n",
    "try:\n",
    "    tup[2] = 40\n",
    "except TypeError as e:\n",
    "    print('Got an error trying to assign wrong datatype: %s' % e)"
   ]
  },
  {
   "cell_type": "markdown",
   "metadata": {},
   "source": [
    "Compared to dictionaries, however, tuples require you access data using integer indexes. Not great for readability..."
   ]
  },
  {
   "cell_type": "code",
   "execution_count": 2,
   "metadata": {
    "ExecuteTime": {
     "end_time": "2018-02-15T01:24:21.809343Z",
     "start_time": "2018-02-15T01:24:21.799225Z"
    }
   },
   "outputs": [
    {
     "name": "stdout",
     "output_type": "stream",
     "text": [
      "red\n",
      "1337\n"
     ]
    }
   ],
   "source": [
    "from collections import namedtuple\n",
    "\n",
    "# To solve this problem you can use namedtuples\n",
    "Car = namedtuple('Car', ['color',  'mileage'])\n",
    "Car = namedtuple('Car', 'color mileage') # You can actually write it like this as well\n",
    "\n",
    "# So now you can create 'objects'.\n",
    "# It behaves as if you had a factory class\n",
    "my_car = Car('red', 1337)\n",
    "print(my_car.color)\n",
    "print(my_car.mileage)"
   ]
  },
  {
   "cell_type": "code",
   "execution_count": 3,
   "metadata": {
    "ExecuteTime": {
     "end_time": "2018-02-15T01:25:40.860798Z",
     "start_time": "2018-02-15T01:25:40.857099Z"
    }
   },
   "outputs": [
    {
     "name": "stdout",
     "output_type": "stream",
     "text": [
      "red 1337\n",
      "red 1337\n"
     ]
    }
   ],
   "source": [
    "# Unpacking also works\n",
    "color, mileage = my_car\n",
    "print(color, mileage)\n",
    "\n",
    "# As well as the * argument operator\n",
    "print(*my_car)"
   ]
  },
  {
   "cell_type": "code",
   "execution_count": 4,
   "metadata": {
    "ExecuteTime": {
     "end_time": "2018-02-15T01:26:36.800324Z",
     "start_time": "2018-02-15T01:26:36.796766Z"
    }
   },
   "outputs": [
    {
     "name": "stdout",
     "output_type": "stream",
     "text": [
      "red\n",
      "('red', 1337)\n"
     ]
    }
   ],
   "source": [
    "# You can still use the index identifiers (as if they were normal tuples)\n",
    "print(my_car[0])\n",
    "print(tuple(my_car))"
   ]
  },
  {
   "cell_type": "code",
   "execution_count": 5,
   "metadata": {
    "ExecuteTime": {
     "end_time": "2018-02-15T01:27:34.870388Z",
     "start_time": "2018-02-15T01:27:34.867564Z"
    }
   },
   "outputs": [
    {
     "name": "stdout",
     "output_type": "stream",
     "text": [
      "Car(color='red', mileage=1337)\n"
     ]
    }
   ],
   "source": [
    "# The built in string representation is nice as well\n",
    "print(my_car)"
   ]
  },
  {
   "cell_type": "code",
   "execution_count": 6,
   "metadata": {
    "ExecuteTime": {
     "end_time": "2018-02-15T01:28:03.834593Z",
     "start_time": "2018-02-15T01:28:03.771644Z"
    }
   },
   "outputs": [
    {
     "ename": "AttributeError",
     "evalue": "can't set attribute",
     "output_type": "error",
     "traceback": [
      "\u001b[0;31m---------------------------------------------------------------------\u001b[0m",
      "\u001b[0;31mAttributeError\u001b[0m                      Traceback (most recent call last)",
      "\u001b[0;32m<ipython-input-6-7cd072110468>\u001b[0m in \u001b[0;36m<module>\u001b[0;34m()\u001b[0m\n\u001b[1;32m      1\u001b[0m \u001b[0;31m# Like tuples, namedtuples are also immutable\u001b[0m\u001b[0;34m\u001b[0m\u001b[0;34m\u001b[0m\u001b[0m\n\u001b[0;32m----> 2\u001b[0;31m \u001b[0mmy_car\u001b[0m\u001b[0;34m.\u001b[0m\u001b[0mcolor\u001b[0m \u001b[0;34m=\u001b[0m \u001b[0;34m'blue'\u001b[0m\u001b[0;34m\u001b[0m\u001b[0m\n\u001b[0m",
      "\u001b[0;31mAttributeError\u001b[0m: can't set attribute"
     ]
    }
   ],
   "source": [
    "# Like tuples, namedtuples are also immutable\n",
    "my_car.color = 'blue'"
   ]
  },
  {
   "cell_type": "code",
   "execution_count": 9,
   "metadata": {
    "ExecuteTime": {
     "end_time": "2018-02-15T01:30:56.018090Z",
     "start_time": "2018-02-15T01:30:56.009913Z"
    }
   },
   "outputs": [
    {
     "data": {
      "text/plain": [
       "'#ff0000'"
      ]
     },
     "execution_count": 9,
     "metadata": {},
     "output_type": "execute_result"
    }
   ],
   "source": [
    "# Because namedtuples are built ontop of regular classes, you can sub-class them\n",
    "class MyCarWithMethods(Car):\n",
    "    def hexcolor(self):\n",
    "        if self.color == 'red':\n",
    "            return '#ff0000'\n",
    "        else:\n",
    "            return '#000000'\n",
    "\n",
    "# Create an instance of this new class\n",
    "c = MyCarWithMethods('red', 1337)\n",
    "c.hexcolor()"
   ]
  },
  {
   "cell_type": "code",
   "execution_count": 10,
   "metadata": {
    "ExecuteTime": {
     "end_time": "2018-02-15T01:45:46.902848Z",
     "start_time": "2018-02-15T01:45:46.889085Z"
    }
   },
   "outputs": [
    {
     "data": {
      "text/plain": [
       "ElectricCar(color='white', mileage=100, charge=89.0)"
      ]
     },
     "execution_count": 10,
     "metadata": {},
     "output_type": "execute_result"
    }
   ],
   "source": [
    "# You can create new namedtuples using the previous ones as a template\n",
    "ElectricCar = namedtuple('ElectricCar', Car._fields + ('charge',))\n",
    "ElectricCar('white', 100, 89.00)"
   ]
  },
  {
   "cell_type": "code",
   "execution_count": 11,
   "metadata": {
    "ExecuteTime": {
     "end_time": "2018-02-15T01:47:48.649052Z",
     "start_time": "2018-02-15T01:47:48.643675Z"
    }
   },
   "outputs": [
    {
     "data": {
      "text/plain": [
       "OrderedDict([('color', 'red'), ('mileage', 1337)])"
      ]
     },
     "execution_count": 11,
     "metadata": {},
     "output_type": "execute_result"
    }
   ],
   "source": [
    "# Namedtuples have a couple convenient built-in functions (ignore the single underscore which usually denotes private)\n",
    "my_car._asdict()"
   ]
  },
  {
   "cell_type": "code",
   "execution_count": 15,
   "metadata": {
    "ExecuteTime": {
     "end_time": "2018-02-15T01:49:21.508151Z",
     "start_time": "2018-02-15T01:49:21.501539Z"
    }
   },
   "outputs": [
    {
     "name": "stdout",
     "output_type": "stream",
     "text": [
      "Car(color='red', mileage=1337)\n",
      "Car(color='blue', mileage=1337)\n"
     ]
    }
   ],
   "source": [
    "new_car = my_car._replace(color='blue')\n",
    "print(my_car)\n",
    "print(new_car)"
   ]
  }
 ],
 "metadata": {
  "kernelspec": {
   "display_name": "Python [conda env:vectorize]",
   "language": "python",
   "name": "conda-env-vectorize-py"
  },
  "language_info": {
   "codemirror_mode": {
    "name": "ipython",
    "version": 3
   },
   "file_extension": ".py",
   "mimetype": "text/x-python",
   "name": "python",
   "nbconvert_exporter": "python",
   "pygments_lexer": "ipython3",
   "version": "3.5.4"
  }
 },
 "nbformat": 4,
 "nbformat_minor": 2
}
