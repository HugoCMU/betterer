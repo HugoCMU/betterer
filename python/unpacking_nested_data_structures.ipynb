{
 "cells": [
  {
   "cell_type": "markdown",
   "metadata": {},
   "source": [
    "### Unpacking Nested Data Structures\n",
    "\n",
    "A tutorial on Python’s advanced data unpacking features: How to unpack data with the “=” operator and for-loops.\n",
    "\n",
    "Source:\n",
    " - [1] https://dbader.org/blog/python-nested-unpacking"
   ]
  },
  {
   "cell_type": "code",
   "execution_count": 1,
   "metadata": {
    "ExecuteTime": {
     "end_time": "2018-02-07T14:14:20.307483Z",
     "start_time": "2018-02-07T14:14:20.301564Z"
    }
   },
   "outputs": [],
   "source": [
    "# Mutiple assignments\n",
    "x = 0\n",
    "y = 0\n",
    "z = 0\n",
    "# is equivalent to\n",
    "x = y = z = 0"
   ]
  },
  {
   "cell_type": "code",
   "execution_count": 3,
   "metadata": {
    "ExecuteTime": {
     "end_time": "2018-02-07T14:14:55.615402Z",
     "start_time": "2018-02-07T14:14:55.588609Z"
    }
   },
   "outputs": [
    {
     "data": {
      "text/plain": [
       "'a'"
      ]
     },
     "execution_count": 3,
     "metadata": {},
     "output_type": "execute_result"
    }
   ],
   "source": [
    "# Multiple vairable unpacking\n",
    "vec = ['a', 'b', 'c']\n",
    "[a, b, c] = vec\n",
    "a"
   ]
  },
  {
   "cell_type": "code",
   "execution_count": 5,
   "metadata": {
    "ExecuteTime": {
     "end_time": "2018-02-07T14:16:06.518590Z",
     "start_time": "2018-02-07T14:16:06.514112Z"
    }
   },
   "outputs": [],
   "source": [
    "(a, b) = [1, 2]\n",
    "(a, b) = [[1, 2], [3, 4]]\n",
    "(a, [b, c]) = (1, [2, 3])"
   ]
  },
  {
   "cell_type": "code",
   "execution_count": 7,
   "metadata": {
    "ExecuteTime": {
     "end_time": "2018-02-07T14:17:40.377623Z",
     "start_time": "2018-02-07T14:17:40.371779Z"
    }
   },
   "outputs": [
    {
     "name": "stdout",
     "output_type": "stream",
     "text": [
      "1\n",
      "[2, 3]\n",
      "4\n"
     ]
    }
   ],
   "source": [
    "# You can use starred targets. Python will first unpack to the unstarred targets\n",
    "x, *y, z = [1, 2, 3, 4]\n",
    "print(x)\n",
    "print(y)\n",
    "print(z)"
   ]
  },
  {
   "cell_type": "code",
   "execution_count": 9,
   "metadata": {
    "ExecuteTime": {
     "end_time": "2018-02-07T14:21:10.020646Z",
     "start_time": "2018-02-07T14:21:10.009333Z"
    }
   },
   "outputs": [
    {
     "name": "stdout",
     "output_type": "stream",
     "text": [
      "0 1\n",
      "1 2\n",
      "2 3\n",
      "3 4\n",
      "0 1\n",
      "1 2\n",
      "2 3\n",
      "3 4\n"
     ]
    }
   ],
   "source": [
    "# This logic works in for loops as well:\n",
    "a = [1, 2, 3, 4]\n",
    "for i, val in enumerate(a):\n",
    "    print(i, val)\n",
    "for (i, val) in enumerate(a):\n",
    "    print(i, val)"
   ]
  },
  {
   "cell_type": "code",
   "execution_count": 24,
   "metadata": {
    "ExecuteTime": {
     "end_time": "2018-02-07T14:27:31.464436Z",
     "start_time": "2018-02-07T14:27:31.438478Z"
    }
   },
   "outputs": [
    {
     "name": "stdout",
     "output_type": "stream",
     "text": [
      "(1, 2, 3, 4, 5)\n",
      "(-1, -2, -3, -4, -5)\n",
      "1 -1\n",
      "2 -2\n",
      "3 -3\n",
      "4 -4\n",
      "5 -5\n",
      "(1, 2, 3, 4, 5)\n",
      "(-1, -2, -3, -4, -5)\n",
      "<zip object at 0x7f52a1f25108>\n",
      "1 -1\n",
      "2 -2\n",
      "3 -3\n",
      "4 -4\n",
      "5 -5\n"
     ]
    }
   ],
   "source": [
    "#\n",
    "pos = (1, 2, 3, 4, 5)\n",
    "neg = tuple(-i for i in pos)\n",
    "print(pos)\n",
    "print(neg)\n",
    "\n",
    "# Zip these together\n",
    "both = list(zip(pos, neg))\n",
    "\n",
    "# Iterate over the pairs\n",
    "for p, n in both:\n",
    "    print(p, n)\n",
    "\n",
    "print(pos)\n",
    "print(neg)\n",
    "print(zip(pos, neg))\n",
    "\n",
    "# Without the need to create an explicit list\n",
    "for p, n in zip(pos, neg):\n",
    "    print(p, n)"
   ]
  },
  {
   "cell_type": "code",
   "execution_count": 25,
   "metadata": {
    "ExecuteTime": {
     "end_time": "2018-02-07T14:28:40.441660Z",
     "start_time": "2018-02-07T14:28:40.426094Z"
    }
   },
   "outputs": [
    {
     "name": "stdout",
     "output_type": "stream",
     "text": [
      "b d\n",
      "c t\n",
      "e t\n",
      "d g\n"
     ]
    }
   ],
   "source": [
    "# Use star variable to get first and last characters of a string\n",
    "animals = ['bird', 'cat', 'elephant', 'dog']\n",
    "\n",
    "for (first_letter, *_, last_letter) in animals:\n",
    "    print(first_letter, last_letter)"
   ]
  }
 ],
 "metadata": {
  "kernelspec": {
   "display_name": "Python [conda env:vectorize]",
   "language": "python",
   "name": "conda-env-vectorize-py"
  },
  "language_info": {
   "codemirror_mode": {
    "name": "ipython",
    "version": 3
   },
   "file_extension": ".py",
   "mimetype": "text/x-python",
   "name": "python",
   "nbconvert_exporter": "python",
   "pygments_lexer": "ipython3",
   "version": "3.5.4"
  }
 },
 "nbformat": 4,
 "nbformat_minor": 2
}
