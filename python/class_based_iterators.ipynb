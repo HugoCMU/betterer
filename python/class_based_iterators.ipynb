{
 "cells": [
  {
   "cell_type": "markdown",
   "metadata": {},
   "source": [
    "### Class based iterators\n",
    "\n",
    "Sources:\n",
    "[1]https://dbader.org/blog/python-iterators"
   ]
  },
  {
   "cell_type": "code",
   "execution_count": 4,
   "metadata": {
    "ExecuteTime": {
     "end_time": "2018-02-05T15:34:08.518031Z",
     "start_time": "2018-02-05T15:34:08.507124Z"
    }
   },
   "outputs": [],
   "source": [
    "# Helper class for iterator behavior\n",
    "class RepeaterIterator:\n",
    "    def __init__(self, source):\n",
    "        # The source is the object handle of the class that call it\n",
    "        self.source = source\n",
    "    def __next__(self):\n",
    "        return self.source.value\n",
    "\n",
    "# Actual iterator class\n",
    "class Repeater:\n",
    "    def __init__(self, value):\n",
    "        self.value = value\n",
    "    def __iter__(self):\n",
    "        return RepeaterIterator(self)"
   ]
  },
  {
   "cell_type": "code",
   "execution_count": 8,
   "metadata": {
    "ExecuteTime": {
     "end_time": "2018-02-05T15:52:05.272797Z",
     "start_time": "2018-02-05T15:52:05.259399Z"
    }
   },
   "outputs": [],
   "source": [
    "# Now as one class\n",
    "class Repeater:\n",
    "    def __init__(self, value, max_repeats):\n",
    "        self.value = value\n",
    "        self.max_repeats = max_repeats\n",
    "        self.count = 0\n",
    "        \n",
    "    def __iter__(self):\n",
    "        return self\n",
    "    \n",
    "    def __next__(self):\n",
    "        self.count += 1\n",
    "        if self.count > self.max_repeats:\n",
    "            raise StopIteration\n",
    "        return self.value"
   ]
  },
  {
   "cell_type": "code",
   "execution_count": 11,
   "metadata": {
    "ExecuteTime": {
     "end_time": "2018-02-05T15:52:53.975910Z",
     "start_time": "2018-02-05T15:52:53.965429Z"
    }
   },
   "outputs": [
    {
     "name": "stdout",
     "output_type": "stream",
     "text": [
      "Hello\n",
      "Hello\n",
      "Hello\n"
     ]
    }
   ],
   "source": [
    "# This is the same as the code in the block below\n",
    "repeater = Repeater('Hello', 3)\n",
    "# iterator = repeater.__iter__()\n",
    "iterator = iter(repeater)\n",
    "while True:\n",
    "    try:\n",
    "    #     item = iterator.__next__()\n",
    "        item = next(iterator)\n",
    "        print(item)\n",
    "    except StopIteration:\n",
    "        break"
   ]
  },
  {
   "cell_type": "code",
   "execution_count": 12,
   "metadata": {
    "ExecuteTime": {
     "end_time": "2018-02-05T15:52:55.431456Z",
     "start_time": "2018-02-05T15:52:55.426227Z"
    }
   },
   "outputs": [
    {
     "name": "stdout",
     "output_type": "stream",
     "text": [
      "Hello\n",
      "Hello\n",
      "Hello\n"
     ]
    }
   ],
   "source": [
    "repeater = Repeater('Hello', 3)\n",
    "for item in repeater:\n",
    "    print(item)"
   ]
  }
 ],
 "metadata": {
  "kernelspec": {
   "display_name": "Python [conda env:vectorize]",
   "language": "python",
   "name": "conda-env-vectorize-py"
  },
  "language_info": {
   "codemirror_mode": {
    "name": "ipython",
    "version": 3
   },
   "file_extension": ".py",
   "mimetype": "text/x-python",
   "name": "python",
   "nbconvert_exporter": "python",
   "pygments_lexer": "ipython3",
   "version": "3.5.4"
  }
 },
 "nbformat": 4,
 "nbformat_minor": 2
}
