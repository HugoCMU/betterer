{
 "cells": [
  {
   "cell_type": "markdown",
   "metadata": {},
   "source": [
    "### Monkey patching\n",
    "\n",
    "Create a simple example which illustrates monkey patching.\n",
    "\n",
    "Source:\n",
    "- [1] http://www.bogotobogo.com/python/python_interview_questions.php"
   ]
  },
  {
   "cell_type": "code",
   "execution_count": 5,
   "metadata": {
    "ExecuteTime": {
     "end_time": "2018-02-05T17:07:08.668325Z",
     "start_time": "2018-02-05T17:07:08.635535Z"
    }
   },
   "outputs": [
    {
     "name": "stdout",
     "output_type": "stream",
     "text": [
      "Executing func()\n",
      "Executing monkey_func()\n"
     ]
    }
   ],
   "source": [
    "# Lets make a class\n",
    "class A(object):\n",
    "    @staticmethod\n",
    "    def func():\n",
    "        print('Executing func()')\n",
    "\n",
    "# Works as expected\n",
    "a = A()\n",
    "a.func()\n",
    "\n",
    "# Now lets monkey patch the class function\n",
    "def monkey_func():\n",
    "    print('Executing monkey_func()')\n",
    "    \n",
    "a.func = monkey_func\n",
    "a.func()\n",
    "\n",
    "# This is useful when testing shtuff"
   ]
  }
 ],
 "metadata": {
  "kernelspec": {
   "display_name": "Python [conda env:vectorize]",
   "language": "python",
   "name": "conda-env-vectorize-py"
  },
  "language_info": {
   "codemirror_mode": {
    "name": "ipython",
    "version": 3
   },
   "file_extension": ".py",
   "mimetype": "text/x-python",
   "name": "python",
   "nbconvert_exporter": "python",
   "pygments_lexer": "ipython3",
   "version": "3.5.4"
  }
 },
 "nbformat": 4,
 "nbformat_minor": 2
}
