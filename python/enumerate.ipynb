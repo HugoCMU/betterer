{
 "cells": [
  {
   "cell_type": "markdown",
   "metadata": {},
   "source": [
    "### Enumerate() Function\n",
    "\n",
    "How and why you should use the built-in enumerate function in Python to write cleaner and more Pythonic loops.\n",
    "\n",
    "Source:\n",
    " - [1] https://dbader.org/blog/python-enumerate"
   ]
  },
  {
   "cell_type": "code",
   "execution_count": 3,
   "metadata": {
    "ExecuteTime": {
     "end_time": "2018-02-07T14:05:19.866972Z",
     "start_time": "2018-02-07T14:05:19.854598Z"
    }
   },
   "outputs": [
    {
     "name": "stdout",
     "output_type": "stream",
     "text": [
      "0, a\n",
      "1, b\n",
      "2, c\n"
     ]
    }
   ],
   "source": [
    "# The enumerate() function allows you to loop through a variable while keeeping a counter variable as well\n",
    "vec = ['a', 'b', 'c']\n",
    "for i, item in enumerate(vec):\n",
    "    print('%s, %s' % (i, item))"
   ]
  },
  {
   "cell_type": "code",
   "execution_count": 5,
   "metadata": {
    "ExecuteTime": {
     "end_time": "2018-02-07T14:06:51.749614Z",
     "start_time": "2018-02-07T14:06:51.744965Z"
    }
   },
   "outputs": [
    {
     "name": "stdout",
     "output_type": "stream",
     "text": [
      "2, a\n",
      "3, b\n",
      "4, c\n"
     ]
    }
   ],
   "source": [
    "# The enumerate function allows you to define the starting index\n",
    "for i, item in enumerate(vec, 2):\n",
    "    print('%s, %s' % (i, item))"
   ]
  },
  {
   "cell_type": "code",
   "execution_count": 6,
   "metadata": {
    "ExecuteTime": {
     "end_time": "2018-02-07T14:08:34.920419Z",
     "start_time": "2018-02-07T14:08:34.906983Z"
    }
   },
   "outputs": [
    {
     "data": {
      "text/plain": [
       "[(0, 'a'), (1, 'b'), (2, 'c')]"
      ]
     },
     "execution_count": 6,
     "metadata": {},
     "output_type": "execute_result"
    }
   ],
   "source": [
    "# The enumerate function stays fast by using iterators for tne index and the list.\n",
    "# To convert this enumerator iterator into a list you would have to do\n",
    "list(enumerate(vec))"
   ]
  }
 ],
 "metadata": {
  "kernelspec": {
   "display_name": "Python [conda env:vectorize]",
   "language": "python",
   "name": "conda-env-vectorize-py"
  },
  "language_info": {
   "codemirror_mode": {
    "name": "ipython",
    "version": 3
   },
   "file_extension": ".py",
   "mimetype": "text/x-python",
   "name": "python",
   "nbconvert_exporter": "python",
   "pygments_lexer": "ipython3",
   "version": "3.5.4"
  }
 },
 "nbformat": 4,
 "nbformat_minor": 2
}
