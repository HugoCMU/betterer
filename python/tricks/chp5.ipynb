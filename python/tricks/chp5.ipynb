{
 "cells": [
  {
   "cell_type": "markdown",
   "metadata": {},
   "source": [
    "## Chp 5\n",
    "\n",
    "This notebook follows Dan Bader's book Python Tricks. Highly recommended!\n",
    "\n",
    "Sources:\n",
    "[1] https://www.amazon.com/Python-Tricks-Buffet-Awesome-Features-ebook"
   ]
  },
  {
   "cell_type": "markdown",
   "metadata": {},
   "source": [
    "### Dictionaries"
   ]
  },
  {
   "cell_type": "code",
   "execution_count": null,
   "metadata": {},
   "outputs": [],
   "source": [
    "# A dict is a python map, hashmap, lookup table, etc\n",
    "a = {x: x * x for x in range(10)}\n",
    "a"
   ]
  },
  {
   "cell_type": "code",
   "execution_count": null,
   "metadata": {},
   "outputs": [],
   "source": [
    "# You can use strings, ints, tuples as keys\n",
    "b = {'key':1, 3:4, ('keytup', 1):1}\n",
    "b"
   ]
  },
  {
   "cell_type": "code",
   "execution_count": null,
   "metadata": {},
   "outputs": [],
   "source": [
    "# Ordered dictionaries remember the insertion order of keys\n",
    "from collections import OrderedDict\n",
    "\n",
    "d = OrderedDict(one=1, two=2, three=3)\n",
    "d['four'] = 4\n",
    "d.keys()"
   ]
  },
  {
   "cell_type": "code",
   "execution_count": null,
   "metadata": {},
   "outputs": [],
   "source": [
    "# Default dictionaries return a default value if a key is not found\n",
    "from collections import defaultdict\n",
    "\n",
    "d = defaultdict(list)\n",
    "d['missing']"
   ]
  },
  {
   "cell_type": "code",
   "execution_count": null,
   "metadata": {},
   "outputs": [],
   "source": [
    "# ChainMap combines dictionaries\n",
    "from collections import ChainMap\n",
    "\n",
    "d1 = {'one':1, 'two':2}\n",
    "d2 = {'three':3, 'four':4}\n",
    "\n",
    "c = ChainMap(d1, d2)\n",
    "c"
   ]
  },
  {
   "cell_type": "code",
   "execution_count": null,
   "metadata": {},
   "outputs": [],
   "source": [
    "# Chain maps will look through all contained dictionaries for a matching key\n",
    "c['four']"
   ]
  },
  {
   "cell_type": "code",
   "execution_count": null,
   "metadata": {},
   "outputs": [],
   "source": [
    "# MappingProxyType allows for creation of immmutable proxy dictionaries\n",
    "from types import MappingProxyType\n",
    "\n",
    "writable = {'one':1, 'two':2}\n",
    "read_only = MappingProxyType(writable)\n",
    "\n",
    "writable['one'] = 100\n",
    "print(writable)\n",
    "\n",
    "print(read_only)\n",
    "read_only['one'] = 100\n"
   ]
  },
  {
   "cell_type": "markdown",
   "metadata": {},
   "source": [
    "### Arrays"
   ]
  },
  {
   "cell_type": "code",
   "execution_count": null,
   "metadata": {},
   "outputs": [],
   "source": [
    "# A python list is implemented as a dynamic array behind the scenes\n",
    "a = [1, 'two', None]\n",
    "print(a)\n",
    "del a[1]\n",
    "print(a)"
   ]
  },
  {
   "cell_type": "code",
   "execution_count": null,
   "metadata": {},
   "outputs": [],
   "source": [
    "# tuples are immutable, but like lists can also contain arbitrary objects\n",
    "a = 1, 'two', None\n",
    "print(a)\n",
    "del a[1]\n",
    "a[1] = 2"
   ]
  },
  {
   "cell_type": "code",
   "execution_count": null,
   "metadata": {},
   "outputs": [],
   "source": [
    "# arrays are constrained to a single data-type making them more memory efficient\n",
    "import array\n",
    "arr = array.array('f', (1.0, 1.5, 2.0, 2.5))\n",
    "print(arr)\n",
    "arr[1] = 3.4\n",
    "print(arr)\n",
    "del arr[2]\n",
    "print(arr)"
   ]
  },
  {
   "cell_type": "code",
   "execution_count": null,
   "metadata": {},
   "outputs": [],
   "source": [
    "arr[2] = 'try_to_tring'"
   ]
  },
  {
   "cell_type": "code",
   "execution_count": null,
   "metadata": {},
   "outputs": [],
   "source": [
    "# strings are actually immutable arrays of unicode characters\n",
    "arr = 'abcd'\n",
    "print(arr)\n",
    "print(arr[2])\n",
    "arr[1] = 'b'\n"
   ]
  },
  {
   "cell_type": "code",
   "execution_count": null,
   "metadata": {},
   "outputs": [],
   "source": [
    "# bytes are immutable sequences of single bytes\n",
    "arr = bytes((1, 2, 3, 4))\n",
    "print(arr)\n",
    "arr[1] = byte((1)) # immutable"
   ]
  },
  {
   "cell_type": "code",
   "execution_count": null,
   "metadata": {},
   "outputs": [],
   "source": [
    "# A bytearray is very similar except it is mutable\n",
    "arr = bytearray((1, 2, 3, 4))\n",
    "print(arr)\n",
    "arr[2] = 12\n",
    "print(arr)\n",
    "del arr[1]\n",
    "print(arr)"
   ]
  },
  {
   "cell_type": "code",
   "execution_count": null,
   "metadata": {},
   "outputs": [],
   "source": [
    "# Only bytes allowed\n",
    "arr[2] = 'hello'"
   ]
  },
  {
   "cell_type": "markdown",
   "metadata": {},
   "source": [
    "### Records, Structs, Data Transfer Objects"
   ]
  },
  {
   "cell_type": "code",
   "execution_count": null,
   "metadata": {},
   "outputs": [],
   "source": [
    "# Named tuples are immutable, slightly more efficient than making custom classes\n",
    "from collections import namedtuple\n",
    "p1 = namedtuple('Point', ['x', 'y', 'z'])(1, 2, 3)\n",
    "p2 = (1, 2, 3)\n",
    "\n",
    "print(p1)\n",
    "print(p2)\n",
    "\n",
    "p1.x = 3 # immutable :("
   ]
  },
  {
   "cell_type": "code",
   "execution_count": null,
   "metadata": {},
   "outputs": [],
   "source": [
    "# A new typing for namedtuple was added in 3.6\n",
    "from typing import NamedTuple\n",
    "\n",
    "class Point(NamedTuple):\n",
    "    x: int\n",
    "    y: int\n",
    "    z: int\n",
    "        \n",
    "p1 = Point(1, 2, 3)\n",
    "p1"
   ]
  },
  {
   "cell_type": "code",
   "execution_count": null,
   "metadata": {},
   "outputs": [],
   "source": [
    "# Structs are efficient methods of storing data\n",
    "from struct import Struct\n",
    "AStruct = Struct('i?f')\n",
    "data = AStruct.pack(4, 'four', False)\n",
    "print(data)\n",
    "print(AStruct.unpack(data))\n"
   ]
  },
  {
   "cell_type": "code",
   "execution_count": null,
   "metadata": {},
   "outputs": [],
   "source": [
    "# SimpleNamespace allows for easy access and prints nicely\n",
    "from types import SimpleNamespace\n",
    "\n",
    "car1 = SimpleNamespace(color='red',\n",
    "                      mileage=12345,\n",
    "                      automatic=True)\n",
    "print(car1)\n",
    "print(car1.color)\n",
    "car1.automatic = False\n",
    "print(car1)\n"
   ]
  },
  {
   "cell_type": "markdown",
   "metadata": {},
   "source": [
    "### Sets and Multisets"
   ]
  },
  {
   "cell_type": "code",
   "execution_count": null,
   "metadata": {},
   "outputs": [],
   "source": [
    "# Sets do not allow for repeated elements\n",
    "letters = set('alice')\n",
    "vowels = set('aeiou')\n",
    "letters.intersection(vowels) # Set intersections"
   ]
  },
  {
   "cell_type": "code",
   "execution_count": null,
   "metadata": {},
   "outputs": [],
   "source": [
    "# Counter will count items in a set\n",
    "from collections import Counter\n",
    "inventory = Counter()\n",
    "loot = {'sword':1, 'bread':3}\n",
    "inventory.update(loot)\n",
    "print(inventory)\n",
    "inventory.update(loot)\n",
    "print(inventory)"
   ]
  },
  {
   "cell_type": "markdown",
   "metadata": {},
   "source": [
    "### Stacks"
   ]
  },
  {
   "cell_type": "code",
   "execution_count": null,
   "metadata": {},
   "outputs": [],
   "source": [
    "# deque provides a double ended queue implementation\n",
    "from collections import deque\n",
    "s = deque()\n",
    "s.append('eat')\n",
    "s.append('sleep')\n",
    "s.append('poop')\n",
    "print(s)\n",
    "s.pop()\n",
    "print(s)\n",
    "s.popleft()\n",
    "print(s)"
   ]
  },
  {
   "cell_type": "markdown",
   "metadata": {},
   "source": [
    "### Queues"
   ]
  },
  {
   "cell_type": "code",
   "execution_count": null,
   "metadata": {},
   "outputs": [],
   "source": [
    "# Lists are veyr slow for queues\n",
    "a = [1, 2, 3, 4]"
   ]
  },
  {
   "cell_type": "code",
   "execution_count": null,
   "metadata": {},
   "outputs": [],
   "source": [
    "a.pop(0) # Slow"
   ]
  },
  {
   "cell_type": "code",
   "execution_count": null,
   "metadata": {},
   "outputs": [],
   "source": [
    "a.pop() # Fast"
   ]
  },
  {
   "cell_type": "code",
   "execution_count": null,
   "metadata": {},
   "outputs": [],
   "source": [
    "# The deque class for queues\n",
    "from collections import deque\n",
    "q = deque()\n",
    "q.append(1)\n",
    "q.append(2)\n",
    "q.popleft()"
   ]
  },
  {
   "cell_type": "code",
   "execution_count": null,
   "metadata": {},
   "outputs": [],
   "source": [
    "# If you need locking for parallel computing use queue clas\n",
    "from queue import Queue\n",
    "q = Queue()\n",
    "q.put('eat')\n",
    "q.put('sleep')\n",
    "q.put('poop')\n",
    "print(q)\n",
    "print(q.get()) # Blocks\n",
    "print(q.get_nowait()) # Does not block\n",
    "q.get_nowait()"
   ]
  },
  {
   "cell_type": "code",
   "execution_count": null,
   "metadata": {},
   "outputs": [],
   "source": [
    "# Priority queues use priority to order their elements\n",
    "\n",
    "# Priority quques with lists are kind of slow\n",
    "q = []\n",
    "q.append((3, 'c'))\n",
    "q.append((1, 'a'))\n",
    "q.append((2, 'b'))\n",
    "print(q)\n",
    "\n",
    "q.sort(reverse=True)\n",
    "while q:\n",
    "    next_item = q.pop()\n",
    "    print(next_item)"
   ]
  },
  {
   "cell_type": "code",
   "execution_count": null,
   "metadata": {},
   "outputs": [],
   "source": [
    "# PriorityQueue is implemented as a heapq internally\n",
    "from queue import PriorityQueue\n",
    "q = PriorityQueue()\n",
    "q.put((3, 'c'))\n",
    "q.put((1, 'a'))\n",
    "q.put((2, 'b'))\n",
    "print(q)\n",
    "while not q.empty():\n",
    "    next_item = q.get()\n",
    "    print(next_item)"
   ]
  }
 ],
 "metadata": {
  "kernelspec": {
   "display_name": "Python 3",
   "language": "python",
   "name": "python3"
  },
  "language_info": {
   "codemirror_mode": {
    "name": "ipython",
    "version": 3
   },
   "file_extension": ".py",
   "mimetype": "text/x-python",
   "name": "python",
   "nbconvert_exporter": "python",
   "pygments_lexer": "ipython3",
   "version": "3.6.3"
  }
 },
 "nbformat": 4,
 "nbformat_minor": 2
}
