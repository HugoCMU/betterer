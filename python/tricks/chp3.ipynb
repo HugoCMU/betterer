{
 "cells": [
  {
   "cell_type": "markdown",
   "metadata": {},
   "source": [
    "## Chp 3\n",
    "\n",
    "This notebook follows Dan Bader's book Python Tricks. Highly recommended!\n",
    "\n",
    "Sources:\n",
    "[1] https://www.amazon.com/Python-Tricks-Buffet-Awesome-Features-ebook"
   ]
  },
  {
   "cell_type": "markdown",
   "metadata": {},
   "source": [
    "### Functions"
   ]
  },
  {
   "cell_type": "code",
   "execution_count": null,
   "metadata": {},
   "outputs": [],
   "source": [
    "def yell(text):\n",
    "    return text.upper() + '!'\n",
    "\n",
    "yell('hello')"
   ]
  },
  {
   "cell_type": "code",
   "execution_count": null,
   "metadata": {},
   "outputs": [],
   "source": [
    "# Since functions are just objects, you can assign them to variables\n",
    "bark = yell\n",
    "del yell\n",
    "bark('woof')"
   ]
  },
  {
   "cell_type": "code",
   "execution_count": null,
   "metadata": {},
   "outputs": [],
   "source": [
    "# Notice how the function that bark now points too still has its old name\n",
    "bark.__name__"
   ]
  },
  {
   "cell_type": "code",
   "execution_count": null,
   "metadata": {},
   "outputs": [],
   "source": [
    "# You can store functions in data structures\n",
    "functions = [bark, str.upper, str.lower]\n",
    "print(functions)"
   ]
  },
  {
   "cell_type": "code",
   "execution_count": null,
   "metadata": {},
   "outputs": [],
   "source": [
    "functions[0]('hello')"
   ]
  },
  {
   "cell_type": "code",
   "execution_count": null,
   "metadata": {},
   "outputs": [],
   "source": [
    "# You can pass functions to other functions\n",
    "def greet(func):\n",
    "    greeting = func('hello')\n",
    "    print(greeting)\n",
    "    \n",
    "greet(bark)\n",
    "\n",
    "# Functions that accept functions are higher-order functions\n",
    "# necessary for functional programming"
   ]
  },
  {
   "cell_type": "code",
   "execution_count": null,
   "metadata": {},
   "outputs": [],
   "source": [
    "# The built in map function is a classic functional function\n",
    "list(map(bark, ['hi', 'hello']))"
   ]
  },
  {
   "cell_type": "code",
   "execution_count": null,
   "metadata": {},
   "outputs": [],
   "source": [
    "# Functions can be defined inside a function and returned\n",
    "def speak(vol):\n",
    "    def whisper(text):\n",
    "        return text.lower()\n",
    "    def yell(text):\n",
    "        return text.upper()\n",
    "    if vol > 0.5:\n",
    "        return yell\n",
    "    else:\n",
    "        return whisper\n",
    "    \n",
    "speak(0.7)"
   ]
  },
  {
   "cell_type": "code",
   "execution_count": null,
   "metadata": {},
   "outputs": [],
   "source": [
    "# Lexical closure allows functions to remember variables\n",
    "# that were in their scope\n",
    "def make_adder(x):\n",
    "    def adder(n):\n",
    "        return x + n\n",
    "    return adder\n",
    "\n",
    "plus_5 = make_adder(5)\n",
    "plus_5(1)"
   ]
  },
  {
   "cell_type": "code",
   "execution_count": null,
   "metadata": {},
   "outputs": [],
   "source": [
    "# You can add callable behaviors to objects with the __call__ method\n",
    "class Adder:\n",
    "    def __init__(self, n):\n",
    "        self.n = n\n",
    "    \n",
    "    def __call__(self, x):\n",
    "        return x + self.n\n",
    "    \n",
    "plus_5 = Adder(5)\n",
    "plus_5(1)"
   ]
  },
  {
   "cell_type": "markdown",
   "metadata": {},
   "source": [
    "### Lambdas"
   ]
  },
  {
   "cell_type": "code",
   "execution_count": null,
   "metadata": {},
   "outputs": [],
   "source": [
    "# Lambdas are single expression functions\n",
    "add = lambda x, y: x + y\n",
    "add(3, 4)"
   ]
  },
  {
   "cell_type": "code",
   "execution_count": null,
   "metadata": {},
   "outputs": [],
   "source": [
    "# Lambdas can be declared on the same line they are used\n",
    "(lambda x, y: x + y)(3, 4)"
   ]
  },
  {
   "cell_type": "code",
   "execution_count": null,
   "metadata": {},
   "outputs": [],
   "source": [
    "# You can use lambdas to provide the key for sorting\n",
    "sorted(range(-5, 5), key=lambda x: x * x)"
   ]
  },
  {
   "cell_type": "markdown",
   "metadata": {},
   "source": [
    "### Decorators"
   ]
  },
  {
   "cell_type": "code",
   "execution_count": null,
   "metadata": {},
   "outputs": [],
   "source": [
    "# Decorators are used to add to a function without modifying the original function\n",
    "\n",
    "def uppercase(func):\n",
    "    def wrapper():\n",
    "        original_result = func()\n",
    "        modified_result = original_result.upper()\n",
    "        return modified_result\n",
    "    return wrapper\n",
    "\n",
    "@uppercase\n",
    "def greet():\n",
    "    return 'hello'\n",
    "    \n",
    "greet()"
   ]
  },
  {
   "cell_type": "code",
   "execution_count": null,
   "metadata": {},
   "outputs": [],
   "source": [
    "# You can pass function arguments to decorators\n",
    "def trace(func):\n",
    "    def wrapper(*args, **kwargs):\n",
    "        print(f'Original function {func.__name__} called with args {args} and kwargs {kwargs}')\n",
    "        original_out = func(*args, **kwargs)\n",
    "        print(f'Original output is {original_out}')\n",
    "        return original_out\n",
    "    return wrapper\n",
    "\n",
    "@trace\n",
    "def say(name, line):\n",
    "    return f'{name} says {line}'\n",
    "\n",
    "say('Simon', 'jump')"
   ]
  },
  {
   "cell_type": "code",
   "execution_count": null,
   "metadata": {},
   "outputs": [],
   "source": [
    "# Use functools.wrap to get the correct metadata for a decorator\n",
    "\n",
    "# The problem\n",
    "def decorate(func):\n",
    "    \"\"\" This is the decorator doc\"\"\"\n",
    "    def wrapper():\n",
    "        \"\"\" This is the wrapper doc\"\"\"\n",
    "        return func()\n",
    "    return wrapper\n",
    "\n",
    "@decorate\n",
    "def func():\n",
    "    \"\"\" This is the func doc\"\"\"\n",
    "    return 0\n",
    "\n",
    "print(decorate.__name__)\n",
    "print(decorate.__doc__)\n",
    "print(func.__name__)\n",
    "print(func.__doc__) \n",
    "\n",
    "# The name and doc of the func are now the decorator"
   ]
  },
  {
   "cell_type": "code",
   "execution_count": null,
   "metadata": {},
   "outputs": [],
   "source": [
    "# Instead lets use functools.wrap\n",
    "import functools\n",
    "\n",
    "def decorate(func):\n",
    "    \"\"\" This is the decorator doc\"\"\"\n",
    "    @functools.wraps(func)\n",
    "    def wrapper():\n",
    "        \"\"\" This is the wrapper doc\"\"\"\n",
    "        return func()\n",
    "    return wrapper\n",
    "\n",
    "@decorate\n",
    "def func():\n",
    "    \"\"\" This is the func doc\"\"\"\n",
    "    return 0\n",
    "\n",
    "print(decorate.__name__)\n",
    "print(decorate.__doc__)\n",
    "print(func.__name__)\n",
    "print(func.__doc__) "
   ]
  },
  {
   "cell_type": "markdown",
   "metadata": {},
   "source": [
    "### \\*args and **kwargs"
   ]
  },
  {
   "cell_type": "code",
   "execution_count": null,
   "metadata": {},
   "outputs": [],
   "source": [
    "# Arguments are stored as a tuple, Keyword arguments as a dict\n",
    "def func(required, *arguments, **keywordarguments):\n",
    "    print(required)\n",
    "    print(arguments)\n",
    "    print(keywordarguments)\n",
    "    \n",
    "func('required', 1, None, str.upper, hello='asdf', num=18)"
   ]
  },
  {
   "cell_type": "code",
   "execution_count": null,
   "metadata": {},
   "outputs": [],
   "source": [
    "# You can forward arguments\n",
    "def foo(x, *args, **kwargs):\n",
    "    kwargs['another_one'] = 'khaled'\n",
    "    new_args = args + ('extra', )\n",
    "    func(x, *new_args, **kwargs)\n",
    "    \n",
    "foo('required', 1, None, str.upper, hello='asdf', num=18)"
   ]
  },
  {
   "cell_type": "markdown",
   "metadata": {},
   "source": [
    "### Argument Unpacking"
   ]
  },
  {
   "cell_type": "code",
   "execution_count": null,
   "metadata": {},
   "outputs": [],
   "source": [
    "def print_vector(x, y, z):\n",
    "    print(f'<{x}, {y}, {z}>')\n",
    "    \n",
    "print_vector(1, 2, 3)"
   ]
  },
  {
   "cell_type": "code",
   "execution_count": null,
   "metadata": {},
   "outputs": [],
   "source": [
    "# Feeding in data structures can be awkward\n",
    "tuple_vec = (1, 2, 3)\n",
    "list_vec = [1, 2, 3]\n",
    "generator_vec = (x for x in range(1,4))\n",
    "dictionary_vec = {'x':1, 'y':2, 'z':3}\n",
    "\n",
    "print_vector(tuple_vec[0], tuple_vec[1], tuple_vec[2])\n",
    "\n",
    "# So instead, we can unpack the values in\n",
    "\n",
    "print_vector(*tuple_vec)\n",
    "print_vector(*list_vec)\n",
    "print_vector(*generator_vec)\n",
    "print_vector(*dictionary_vec)\n",
    "print_vector(**dictionary_vec)"
   ]
  },
  {
   "cell_type": "markdown",
   "metadata": {},
   "source": [
    "### Returning None"
   ]
  },
  {
   "cell_type": "code",
   "execution_count": null,
   "metadata": {},
   "outputs": [],
   "source": []
  }
 ],
 "metadata": {
  "kernelspec": {
   "display_name": "Python 3",
   "language": "python",
   "name": "python3"
  },
  "language_info": {
   "codemirror_mode": {
    "name": "ipython",
    "version": 3
   },
   "file_extension": ".py",
   "mimetype": "text/x-python",
   "name": "python",
   "nbconvert_exporter": "python",
   "pygments_lexer": "ipython3",
   "version": "3.6.3"
  }
 },
 "nbformat": 4,
 "nbformat_minor": 2
}
