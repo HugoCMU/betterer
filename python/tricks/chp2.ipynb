{
 "cells": [
  {
   "cell_type": "markdown",
   "metadata": {},
   "source": [
    "## Chp 2\n",
    "\n",
    "This notebook follows Dan Bader's book Python Tricks. Highly recommended!\n",
    "\n",
    "Sources:\n",
    "[1] https://www.amazon.com/Python-Tricks-Buffet-Awesome-Features-ebook"
   ]
  },
  {
   "cell_type": "markdown",
   "metadata": {},
   "source": [
    "### Assert Statements"
   ]
  },
  {
   "cell_type": "code",
   "execution_count": null,
   "metadata": {},
   "outputs": [],
   "source": [
    "# Use assert statements when making assumptions within your code\n",
    "def apply_discount(product, discount):\n",
    "    price = int(product['price'] * (1.0 - discount))\n",
    "    assert 0 <= price <= product['price']\n",
    "    return price"
   ]
  },
  {
   "cell_type": "code",
   "execution_count": null,
   "metadata": {},
   "outputs": [],
   "source": [
    "# Lets create a product\n",
    "shoes = {'name': 'Yeezys', 'price' : 12000}\n",
    "apply_discount(shoes, 0.9)"
   ]
  },
  {
   "cell_type": "code",
   "execution_count": null,
   "metadata": {},
   "outputs": [],
   "source": [
    "# Try an invalid discount\n",
    "apply_discount(shoes, 1.2)\n",
    "# This throws an assertion error. Pointing whoever to the point in\n",
    "# your code where they need to look. Assertion errors increase\n",
    "# transparency"
   ]
  },
  {
   "cell_type": "code",
   "execution_count": null,
   "metadata": {},
   "outputs": [],
   "source": [
    "# Asserts can be globally shut off, so be careful what you use them for\n",
    "\n",
    "# def delete_product(prod_id, user):\n",
    "#     assert user.is_admin(), 'User is not admin'\n",
    "#     assert store.has_prod_id(prod_id), 'Unknown product'\n",
    "# ...\n",
    "\n",
    "# Both of these assertions are dangerous, instead raise errors\n",
    "\n",
    "def delete_product(product):\n",
    "    if not product['user'].is_admin():\n",
    "        raise AuthError('User must be admin')\n",
    "    if not product['id'].is_valid():\n",
    "        raise ValueError('Product not valid')"
   ]
  },
  {
   "cell_type": "markdown",
   "metadata": {},
   "source": [
    "### Comma Placement"
   ]
  },
  {
   "cell_type": "code",
   "execution_count": null,
   "metadata": {},
   "outputs": [],
   "source": [
    "# End lines with a comma to makes difs easier to read\n",
    "\n",
    "names = ['Joe', 'Bob', 'Tom'] # Instead of this\n",
    "name = [\n",
    "        'Joe', \n",
    "        'Bob', \n",
    "        'Tom',\n",
    "       ] # Do this"
   ]
  },
  {
   "cell_type": "code",
   "execution_count": null,
   "metadata": {},
   "outputs": [],
   "source": [
    "# Automatic string concatenation can causes bugs, but also can be used\n",
    "# to split long strings into multiple lines\n",
    "\n",
    "names = ['Bob',\n",
    "         'Joe'\n",
    "         'Moe']\n",
    "\n",
    "longstring = ('This is a long line '\n",
    "                'I want to split into two lines')\n",
    "\n",
    "print(names)\n",
    "print(longstring)"
   ]
  },
  {
   "cell_type": "markdown",
   "metadata": {},
   "source": [
    "### Context Managers"
   ]
  },
  {
   "cell_type": "code",
   "execution_count": null,
   "metadata": {},
   "outputs": [],
   "source": [
    "# The with context manager is the same as a try-finally block\n",
    "with open('words.txt', 'w') as f:\n",
    "    f.write('hello')\n",
    "\n",
    "# Is equivalent to\n",
    "f = open('words.txt', 'w')\n",
    "try:\n",
    "    f.write('hello')\n",
    "finally:\n",
    "    f.close()"
   ]
  },
  {
   "cell_type": "code",
   "execution_count": null,
   "metadata": {},
   "outputs": [],
   "source": [
    "# Use with statements when aquiring and releasing thread locks\n",
    "some_lock = threading.Lock()\n",
    "with some_lock:\n",
    "    print('I have the power')"
   ]
  },
  {
   "cell_type": "code",
   "execution_count": null,
   "metadata": {},
   "outputs": [],
   "source": [
    "# You can implement your own context managers in a class\n",
    "class ManagedFile:\n",
    "    def __init__(self, name):\n",
    "        self.name = name\n",
    "        \n",
    "    def __enter__(self):\n",
    "        self.file = open(self.name, 'w')\n",
    "        return self.file\n",
    "    \n",
    "    def __exit__(self, exc_type, exc_val, exc_tb):\n",
    "        if self.file:\n",
    "            self.file.close()\n",
    "            \n",
    "with ManagedFile('words.txt') as f:\n",
    "    f.write('hello')"
   ]
  },
  {
   "cell_type": "code",
   "execution_count": null,
   "metadata": {},
   "outputs": [],
   "source": [
    "# An easier way to implement context managers is with the\n",
    "# contextlib decorator\n",
    "from contextlib import contextmanager\n",
    "\n",
    "@contextmanager\n",
    "def managed_file(name):\n",
    "    try:\n",
    "        f = open(name, 'w')\n",
    "        yield f\n",
    "    finally:\n",
    "        f.close()\n",
    "        \n",
    "with managed_file('words.txt') as f:\n",
    "    f.write('hello')"
   ]
  },
  {
   "cell_type": "code",
   "execution_count": null,
   "metadata": {},
   "outputs": [],
   "source": [
    "# Exercise: Implement this context manager functionality\n",
    "class Indenter:\n",
    "    def __init__(self):\n",
    "        self.num_indent = 0\n",
    "    \n",
    "    def __enter__(self):\n",
    "        self.num_indent += 1\n",
    "        return self\n",
    "        \n",
    "    def __exit__(self, exc_type, exc_val, exc_tb):\n",
    "        self.num_indent -= 1\n",
    "        \n",
    "    def _print(self, line):\n",
    "        print('  ' * self.num_indent + line)\n",
    "        \n",
    "with Indenter() as indent:\n",
    "    indent._print('line 1')\n",
    "    with indent:\n",
    "        indent._print('line 2')\n",
    "        with indent:\n",
    "            indent._print('line 3')\n",
    "    indent._print('line 4')\n"
   ]
  },
  {
   "cell_type": "code",
   "execution_count": null,
   "metadata": {},
   "outputs": [],
   "source": [
    "# Exercise: Implement a context manager that measures runtime using\n",
    "# the time.time function\n",
    "\n",
    "import time\n",
    "\n",
    "class TimeManager:\n",
    "    def __enter__(self):\n",
    "        self.start = time.time()\n",
    "    def __exit__(self, exc_type, exc_val, exc_tb):\n",
    "        self.stop = time.time()\n",
    "        print('Execution time: ', self.stop - self.start)\n",
    "        \n",
    "with TimeManager():\n",
    "    a = [a * 2 for a in range(100)]"
   ]
  },
  {
   "cell_type": "code",
   "execution_count": null,
   "metadata": {},
   "outputs": [],
   "source": [
    "# Using context manager\n",
    "from contextlib import contextmanager\n",
    "\n",
    "@contextmanager\n",
    "def timer():\n",
    "    try:\n",
    "        start = time.time()\n",
    "        yield\n",
    "    finally:\n",
    "        stop = time.time()\n",
    "        print('Execution time: ', stop - start)\n",
    "\n",
    "with timer():\n",
    "    a = [a * 2 for a in range(100)]"
   ]
  },
  {
   "cell_type": "markdown",
   "metadata": {},
   "source": [
    "### Underscores"
   ]
  },
  {
   "cell_type": "code",
   "execution_count": null,
   "metadata": {},
   "outputs": [],
   "source": [
    "# Leading underscores indicate private variables/classes, but\n",
    "# are not enforced in any way\n",
    "class Foo:\n",
    "    def __init__(self):\n",
    "        self.public_var = 1\n",
    "        self._private_var = -1\n",
    "\n",
    "# Trailing underscores are used to prevent naming conflicts with \n",
    "# python keywords\n",
    "class School:\n",
    "    def class_(self):\n",
    "        print('inside a method called class')"
   ]
  },
  {
   "cell_type": "code",
   "execution_count": null,
   "metadata": {},
   "outputs": [],
   "source": [
    "# Leading double undersccores are used for name mangling. It tells\n",
    "# Python to change the name of that variable in the class dir. This\n",
    "# means that it cannot be inherited\n",
    "\n",
    "class Parent:\n",
    "    def __init__(self):\n",
    "        self.a = 1\n",
    "        self._b = 2\n",
    "        self.__c = 3\n",
    "\n",
    "class Child(Parent):\n",
    "    pass\n",
    "\n",
    "parent = Parent()\n",
    "child = Child()\n",
    "\n",
    "print(dir(parent))\n",
    "print(dir(child))\n"
   ]
  },
  {
   "cell_type": "markdown",
   "metadata": {},
   "source": [
    "### String Formatting"
   ]
  },
  {
   "cell_type": "code",
   "execution_count": null,
   "metadata": {},
   "outputs": [],
   "source": [
    "# String formatting error\n",
    "error = 50159747054\n",
    "name = 'Bob'\n",
    "\n",
    "# Old style string formatting\n",
    "print('Hello, %s' % name)\n",
    "print('Error is %x' % error)\n",
    "print('Hello %s, there is a %x error' % (name, error))\n",
    "print('Hello %(name)s, there is a %(error)x error' %\n",
    "     {'name':name, 'error':error})"
   ]
  },
  {
   "cell_type": "code",
   "execution_count": null,
   "metadata": {},
   "outputs": [],
   "source": [
    "# New style string formatting (explicitly calling the format() function\n",
    "# on a string object)\n",
    "\n",
    "print('Hello, {}'.format(name))\n",
    "print('Hello {name}, there is a {error:x} error'.format(name=name, error=error))"
   ]
  },
  {
   "cell_type": "code",
   "execution_count": null,
   "metadata": {},
   "outputs": [],
   "source": [
    "# Literal string interpolation. Allows you to embbed arbitrary python expressions\n",
    "print(f'Hello {name}')\n",
    "print(f'Hello {name} there is a {error:#x} error')\n",
    "\n",
    "a = 40\n",
    "b = 25\n",
    "print(f'The sum of {a} and {b} is {a + b}')\n"
   ]
  },
  {
   "cell_type": "code",
   "execution_count": null,
   "metadata": {},
   "outputs": [],
   "source": [
    "# Template strings\n",
    "from string import Template\n",
    "t = Template('Hello $name')\n",
    "t.substitute(name=name)"
   ]
  },
  {
   "cell_type": "code",
   "execution_count": null,
   "metadata": {},
   "outputs": [],
   "source": []
  }
 ],
 "metadata": {
  "kernelspec": {
   "display_name": "Python 3",
   "language": "python",
   "name": "python3"
  },
  "language_info": {
   "codemirror_mode": {
    "name": "ipython",
    "version": 3
   },
   "file_extension": ".py",
   "mimetype": "text/x-python",
   "name": "python",
   "nbconvert_exporter": "python",
   "pygments_lexer": "ipython3",
   "version": "3.6.3"
  }
 },
 "nbformat": 4,
 "nbformat_minor": 2
}
