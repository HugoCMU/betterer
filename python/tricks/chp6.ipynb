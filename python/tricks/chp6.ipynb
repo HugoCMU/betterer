{
 "cells": [
  {
   "cell_type": "markdown",
   "metadata": {},
   "source": [
    "## Chp 6\n",
    "\n",
    "This notebook follows Dan Bader's book Python Tricks. Highly recommended!\n",
    "\n",
    "Sources:\n",
    "[1] https://www.amazon.com/Python-Tricks-Buffet-Awesome-Features-ebook"
   ]
  },
  {
   "cell_type": "markdown",
   "metadata": {},
   "source": [
    "### Loops"
   ]
  },
  {
   "cell_type": "code",
   "execution_count": null,
   "metadata": {},
   "outputs": [],
   "source": [
    "# Use enumerate if you need index\n",
    "items = [1, 2, 3, 4]\n",
    "\n",
    "for i, item in enumerate(items):\n",
    "    print(i, item)"
   ]
  },
  {
   "cell_type": "markdown",
   "metadata": {},
   "source": [
    "### Comprehensions"
   ]
  },
  {
   "cell_type": "code",
   "execution_count": null,
   "metadata": {},
   "outputs": [],
   "source": [
    "# Use list/set/dict comprehensions to compress for loops\n",
    "\n",
    "even_squares = [x*x for x in range(10) if x % 2 == 0]\n",
    "print(even_squares)\n",
    "\n",
    "even_squares = {x*x for x in range(10) if x % 2 == 0}\n",
    "print(even_squares)\n",
    "\n",
    "even_squares = { x: x*x for x in range(10) if x % 2 == 0}\n",
    "print(even_squares)"
   ]
  },
  {
   "cell_type": "markdown",
   "metadata": {},
   "source": [
    "### Slicing"
   ]
  },
  {
   "cell_type": "code",
   "execution_count": null,
   "metadata": {},
   "outputs": [],
   "source": [
    "# Use list slicing to subselect\n",
    "list_ = [1, 2, 3, 4, 5, 6]\n",
    "print(list_[1:2:6])\n",
    "# Use sushi operator to define stride or reverse order\n",
    "print(list_[::2])\n",
    "print(list_[::-1]) # Or use list.reversed()\n",
    "# Delete the items in a list with : operator\n",
    "del list_[:] # Or use list_.clear()\n",
    "print(list_)"
   ]
  },
  {
   "cell_type": "markdown",
   "metadata": {},
   "source": [
    "### Iterators"
   ]
  },
  {
   "cell_type": "code",
   "execution_count": null,
   "metadata": {},
   "outputs": [],
   "source": [
    "# Iterator protocol can be used in custom classes\n",
    "class Repeater:\n",
    "    def __init__(self, value, max_repeats=3):\n",
    "        self.value = value\n",
    "        self.max_repeats = max_repeats\n",
    "        self.count = 0\n",
    "        \n",
    "    def __iter__(self):\n",
    "        return self\n",
    "    \n",
    "    def __next__(self):\n",
    "        if self.count >= self.max_repeats:\n",
    "            raise StopIteration\n",
    "        self.count += 1\n",
    "        return self.value\n",
    "    \n",
    "repeater = Repeater('hello')\n",
    "iterator = iter(repeater)\n",
    "print(next(iterator))\n",
    "print(next(iterator))\n",
    "\n",
    "for item in Repeater('huzza', 3):\n",
    "    print(item)"
   ]
  },
  {
   "cell_type": "markdown",
   "metadata": {},
   "source": [
    "### Generators"
   ]
  },
  {
   "cell_type": "code",
   "execution_count": null,
   "metadata": {},
   "outputs": [],
   "source": [
    "# Generators can be used as a simpler form of iterators\n",
    "def repeater(value, max_repeat=2):\n",
    "    for _ in range(max_repeat):\n",
    "        yield value\n",
    "\n",
    "print(repeater('hello'))\n",
    "for item in repeater('hello', 3):\n",
    "    print(item)"
   ]
  },
  {
   "cell_type": "code",
   "execution_count": null,
   "metadata": {},
   "outputs": [],
   "source": [
    "# You can use comprehensions to create generator expressions\n",
    "iterator = ('hello' for _ in range(3))\n",
    "print(iterator)\n",
    "for item in iterator:\n",
    "    print(item)"
   ]
  },
  {
   "cell_type": "markdown",
   "metadata": {},
   "source": [
    "### Iterator Chains"
   ]
  },
  {
   "cell_type": "code",
   "execution_count": null,
   "metadata": {},
   "outputs": [],
   "source": [
    "# You can chain iterators together\n",
    "numbers = (i for i in range(9))\n",
    "\n",
    "def squared(seq):\n",
    "    for i in seq:\n",
    "        yield i * i\n",
    "        \n",
    "chain = squared(numbers)\n",
    "list(chain) # Processing happens one element at a time"
   ]
  }
 ],
 "metadata": {
  "kernelspec": {
   "display_name": "Python 3",
   "language": "python",
   "name": "python3"
  },
  "language_info": {
   "codemirror_mode": {
    "name": "ipython",
    "version": 3
   },
   "file_extension": ".py",
   "mimetype": "text/x-python",
   "name": "python",
   "nbconvert_exporter": "python",
   "pygments_lexer": "ipython3",
   "version": "3.6.3"
  }
 },
 "nbformat": 4,
 "nbformat_minor": 2
}
