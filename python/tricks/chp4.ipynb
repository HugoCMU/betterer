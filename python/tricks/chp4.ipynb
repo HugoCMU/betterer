{
 "cells": [
  {
   "cell_type": "markdown",
   "metadata": {},
   "source": [
    "## Chp 4\n",
    "\n",
    "This notebook follows Dan Bader's book Python Tricks. Highly recommended!\n",
    "\n",
    "Sources:\n",
    "[1] https://www.amazon.com/Python-Tricks-Buffet-Awesome-Features-ebook"
   ]
  },
  {
   "cell_type": "markdown",
   "metadata": {},
   "source": [
    "### Classes"
   ]
  },
  {
   "cell_type": "code",
   "execution_count": null,
   "metadata": {},
   "outputs": [],
   "source": [
    "# 'is' is different from '=='\n",
    "a = [1, 2, 3]\n",
    "b = a\n",
    "c = [1, 2, 3]\n",
    "\n",
    "print(a, b, c)\n",
    "print(a == b, a == c)\n",
    "print(a is b, a is c)"
   ]
  },
  {
   "cell_type": "code",
   "execution_count": null,
   "metadata": {},
   "outputs": [],
   "source": [
    "# Use the __str__ and __repr__ built ins to define a string for a class\n",
    "class Car:\n",
    "    def __init__(self, name, color):\n",
    "        self.name = name\n",
    "        self.color = color\n",
    "    def __str__(self):\n",
    "        return f'(in __str__) This car is a {self.color} {self.name}'\n",
    "    def __repr__(self):\n",
    "        return f'(in __repr__) This car is a {self.color} {self.name}'\n",
    "\n",
    "mcspeedy = Car('racecar', 'blue')\n",
    "\n",
    "# __str__ and __repr__ have different behaviors\\\n",
    "print(mcspeedy)\n",
    "print(f'{mcspeedy}')\n",
    "print(str([mcspeedy]))\n",
    "mcspeedy\n"
   ]
  },
  {
   "cell_type": "code",
   "execution_count": null,
   "metadata": {},
   "outputs": [],
   "source": [
    "# The default __str__ calls __repr__\n",
    "class Car:\n",
    "    def __init__(self, name, color):\n",
    "        self.name = name\n",
    "        self.color = color\n",
    "    def __repr__(self):\n",
    "        return f'{__class__.__name__}({self.color},{self.name})'\n",
    "    \n",
    "coche = Car('truck', 'red')\n",
    "str(coche)\n",
    "\n"
   ]
  },
  {
   "cell_type": "markdown",
   "metadata": {},
   "source": [
    "### Exception Classes"
   ]
  },
  {
   "cell_type": "code",
   "execution_count": null,
   "metadata": {},
   "outputs": [],
   "source": [
    "# Prefer custom exceptions over generic ones for better debugging\n",
    "class NameTooShortException(ValueError):\n",
    "    pass\n",
    "\n",
    "def validate(name):\n",
    "    if len(name) < 10:\n",
    "        raise NameTooShortException\n",
    "\n",
    "validate('bob')"
   ]
  },
  {
   "cell_type": "markdown",
   "metadata": {},
   "source": [
    "###  Cloning"
   ]
  },
  {
   "cell_type": "code",
   "execution_count": null,
   "metadata": {},
   "outputs": [],
   "source": [
    "# Shallow copies are only one level deep\n",
    "a = [[1, 2, 3], [4, 5, 6]]\n",
    "shallow_a = list(a)\n",
    "\n",
    "print(a is shallow_a)\n",
    "print(a[0] is shallow_a[0])"
   ]
  },
  {
   "cell_type": "code",
   "execution_count": null,
   "metadata": {},
   "outputs": [],
   "source": [
    "# Deep copies are recursively deep\n",
    "import copy\n",
    "a = [[1, 2, 3], [4, 5, 6]]\n",
    "deep_a = copy.deepcopy(a)\n",
    "\n",
    "print(a is deep_a)\n",
    "print(a[0] is deep_a[0])"
   ]
  },
  {
   "cell_type": "code",
   "execution_count": null,
   "metadata": {},
   "outputs": [],
   "source": [
    "class Point:\n",
    "    def __init__(self, x, y):\n",
    "        self.x = x\n",
    "        self.y = y\n",
    "    def __repr__(self):\n",
    "        return f'Point({self.x}, {self.y})'\n",
    "    \n",
    "a = Point(1, 2)\n",
    "b = copy.copy(a) # shallow copy\n",
    "print(a, b)\n",
    "print(a is b)"
   ]
  },
  {
   "cell_type": "code",
   "execution_count": null,
   "metadata": {},
   "outputs": [],
   "source": [
    "class Rectangle:\n",
    "    def __init__(self, bl, tr):\n",
    "        self.bl = bl\n",
    "        self.tr = tr\n",
    "    def __repr__(self):\n",
    "        return f'Rectangle({self.bl}, {self.tr})'\n",
    "\n",
    "a = Rectangle(Point(0, 0), Point(1, 2))\n",
    "b = copy.copy(a) # shallow copy\n",
    "c = copy.deepcopy(a) # deep copy\n",
    "print(a)\n",
    "print(b)\n",
    "print(c)\n",
    "a.bl.x = -1\n",
    "print(a)\n",
    "print(b) # Because it is a shallow copy the object one level below changes (it is a reference)\n",
    "print(c)"
   ]
  },
  {
   "cell_type": "markdown",
   "metadata": {},
   "source": [
    "### Abstract Base Classes"
   ]
  },
  {
   "cell_type": "code",
   "execution_count": null,
   "metadata": {},
   "outputs": [],
   "source": [
    "# Use the abc module\n",
    "from abc import ABCMeta, abstractmethod\n",
    "\n",
    "class Base(metaclass = ABCMeta):\n",
    "    @abstractmethod\n",
    "    def foo(self):\n",
    "        pass\n",
    "    \n",
    "    def bar(self):\n",
    "        pass\n",
    "    \n",
    "class Child(Base):\n",
    "    def foo(self):\n",
    "        pass\n",
    "\n",
    "# Won't let you instantiate class without abstract base methods defined\n",
    "a = Child()"
   ]
  },
  {
   "cell_type": "markdown",
   "metadata": {},
   "source": [
    "### NamedTuples"
   ]
  },
  {
   "cell_type": "code",
   "execution_count": null,
   "metadata": {},
   "outputs": [],
   "source": [
    "# Tuples are immutable\n",
    "tup = (1, 2)\n",
    "tup[0] = 1"
   ]
  },
  {
   "cell_type": "code",
   "execution_count": null,
   "metadata": {},
   "outputs": [],
   "source": [
    "# Use named tuples instead of small throwaway classes\n",
    "from collections import namedtuple\n",
    "\n",
    "Car = namedtuple('Car', [\n",
    "    'mileage',\n",
    "    'color',\n",
    "])\n",
    "\n",
    "truck = Car(123, 'blue')\n",
    "print(truck)\n",
    "print(truck[0])\n",
    "print(truck.mileage)\n",
    "print(*truck)\n",
    "\n",
    "# Namedtuples are also immutable\n",
    "truck.mileage = 145"
   ]
  },
  {
   "cell_type": "code",
   "execution_count": null,
   "metadata": {},
   "outputs": [],
   "source": [
    "# You can inherit from namedtuples\n",
    "class RaceCar(Car):\n",
    "    def is_fast(self):\n",
    "        if self.color == 'red':\n",
    "            return 'yes'\n",
    "        return 'no'\n",
    "\n",
    "speedy = RaceCar(123, 'red')\n",
    "speedy.is_fast()"
   ]
  },
  {
   "cell_type": "code",
   "execution_count": null,
   "metadata": {},
   "outputs": [],
   "source": [
    "# Namedtuples contain useful helper methods\n",
    "speedy._asdict()"
   ]
  },
  {
   "cell_type": "code",
   "execution_count": null,
   "metadata": {},
   "outputs": [],
   "source": [
    "import json\n",
    "json.dumps(speedy._asdict())"
   ]
  },
  {
   "cell_type": "markdown",
   "metadata": {},
   "source": [
    "### Class vs Instance Variables"
   ]
  },
  {
   "cell_type": "code",
   "execution_count": null,
   "metadata": {},
   "outputs": [],
   "source": [
    "# Class variables are the same for all instances of the object\n",
    "\n",
    "class Dog:\n",
    "    num_legs = 4\n",
    "    def __init__(self, name):\n",
    "        self.name = name\n",
    "    def __repr__(self):\n",
    "        return f'Dog({self.name})'\n",
    "    \n",
    "spotty = Dog('spotty')\n",
    "doggo = Dog('doggo')\n",
    "\n",
    "# Same exact place in memory\n",
    "print(spotty.num_legs is doggo.num_legs)\n",
    "\n",
    "# Makes it easy to change\n",
    "Dog.num_legs = 3\n",
    "print(spotty.num_legs)"
   ]
  },
  {
   "cell_type": "code",
   "execution_count": null,
   "metadata": {},
   "outputs": [],
   "source": [
    "# Use case: counting number of instantiations\n",
    "class CountInstances:\n",
    "    num = 0\n",
    "    def __init__(self):\n",
    "        self.__class__.num += 1\n",
    "        \n",
    "print(CountInstances().num)\n",
    "print(CountInstances().num)\n",
    "print(CountInstances.num)"
   ]
  },
  {
   "cell_type": "markdown",
   "metadata": {},
   "source": [
    "### Instance, Class, Static Methods"
   ]
  },
  {
   "cell_type": "code",
   "execution_count": null,
   "metadata": {},
   "outputs": [],
   "source": [
    "class MyClass:\n",
    "    def method_(self):\n",
    "        return 'instance method called', self\n",
    "    \n",
    "    @classmethod\n",
    "    def classmethod_(cls):\n",
    "        return 'classmethod called', cls\n",
    "    \n",
    "    @staticmethod\n",
    "    def staticmethod_():\n",
    "        return 'staticmethod called'\n",
    "\n",
    "an_instance = MyClass()\n",
    "print(an_instance)\n",
    "print(an_instance.method_())\n",
    "print(an_instance.classmethod_())\n",
    "print(an_instance.staticmethod_())"
   ]
  },
  {
   "cell_type": "code",
   "execution_count": null,
   "metadata": {},
   "outputs": [],
   "source": [
    "# What if we do something more tricky?\n",
    "print(MyClass.classmethod_())\n",
    "print(MyClass.method_())"
   ]
  },
  {
   "cell_type": "code",
   "execution_count": null,
   "metadata": {},
   "outputs": [],
   "source": [
    "# Demonstrate with a pizza class\n",
    "class Pizza:\n",
    "    def __init__(self, ingredients):\n",
    "        self.ingredients = ingredients\n",
    "    \n",
    "    def __repr__(self):\n",
    "        return f'Pizza({self.ingredients})'\n",
    "    \n",
    "    @classmethod\n",
    "    def margherita(cls):\n",
    "        return cls(['mozzarella', 'tomato'])\n",
    "    \n",
    "    @classmethod\n",
    "    def proscutto(cls):\n",
    "        return cls(['mozzarella', 'tomato', 'ham'])\n",
    "    \n",
    "print(Pizza(['cheese', 'meat']))\n",
    "print(Pizza.margherita())\n",
    "print(Pizza.proscutto())\n"
   ]
  },
  {
   "cell_type": "code",
   "execution_count": null,
   "metadata": {},
   "outputs": [],
   "source": []
  }
 ],
 "metadata": {
  "kernelspec": {
   "display_name": "Python 3",
   "language": "python",
   "name": "python3"
  },
  "language_info": {
   "codemirror_mode": {
    "name": "ipython",
    "version": 3
   },
   "file_extension": ".py",
   "mimetype": "text/x-python",
   "name": "python",
   "nbconvert_exporter": "python",
   "pygments_lexer": "ipython3",
   "version": "3.6.3"
  }
 },
 "nbformat": 4,
 "nbformat_minor": 2
}
