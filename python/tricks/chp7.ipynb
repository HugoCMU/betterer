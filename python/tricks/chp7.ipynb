{
 "cells": [
  {
   "cell_type": "markdown",
   "metadata": {},
   "source": [
    "## Chp 7\n",
    "\n",
    "This notebook follows Dan Bader's book Python Tricks. Highly recommended!\n",
    "\n",
    "Sources:\n",
    "[1] https://www.amazon.com/Python-Tricks-Buffet-Awesome-Features-ebook"
   ]
  },
  {
   "cell_type": "markdown",
   "metadata": {},
   "source": [
    "### Dictionary Defaults"
   ]
  },
  {
   "cell_type": "code",
   "execution_count": null,
   "metadata": {},
   "outputs": [],
   "source": [
    "# Use the get() method for looking up keys with a fallback value\n",
    "name_userid = {\n",
    "    123 : 'Alice',\n",
    "    234 : 'Bob',\n",
    "    345 : 'Joe',\n",
    "}\n",
    "\n",
    "def greeting(userid):\n",
    "    name = name_userid.get(userid, 'person')\n",
    "    return f'Hello {name}'\n",
    "\n",
    "print(greeting(123))\n",
    "print(greeting(142))"
   ]
  },
  {
   "cell_type": "markdown",
   "metadata": {},
   "source": [
    "### Sorting"
   ]
  },
  {
   "cell_type": "code",
   "execution_count": null,
   "metadata": {},
   "outputs": [],
   "source": [
    "xs = {'a':4, 'c':2, 'b':3, 'd':1}\n",
    "sorted(xs.items())"
   ]
  },
  {
   "cell_type": "code",
   "execution_count": null,
   "metadata": {},
   "outputs": [],
   "source": [
    "# Use a lambda function key to sort based on value\n",
    "sorted(xs.items(), key=lambda x: x[1]) # Second item in tuple"
   ]
  },
  {
   "cell_type": "code",
   "execution_count": null,
   "metadata": {},
   "outputs": [],
   "source": [
    "# This lambda function is built in\n",
    "import operator\n",
    "sorted(xs.items(), key=operator.itemgetter(1))"
   ]
  },
  {
   "cell_type": "markdown",
   "metadata": {},
   "source": [
    "### Switch/Case Statements"
   ]
  },
  {
   "cell_type": "code",
   "execution_count": null,
   "metadata": {},
   "outputs": [],
   "source": [
    "# Use functions embedded in dicts as a switch statement\n",
    "def dispatch_dict(operator, x, y):\n",
    "    # This creates a dict and lambdas every time so not ideal\n",
    "    return {\n",
    "        'sum': lambda: x + y,\n",
    "        'sub': lambda: x - y,\n",
    "        'div': lambda: x / y,\n",
    "        'mul': lambda: x * y,\n",
    "    }.get(operator, lambda:None)()\n",
    "\n",
    "print(dispatch_dict('sum', 1, 1))\n",
    "print(dispatch_dict('belhd',1, 2))"
   ]
  },
  {
   "cell_type": "markdown",
   "metadata": {},
   "source": [
    "### Dict Expressions"
   ]
  },
  {
   "cell_type": "code",
   "execution_count": null,
   "metadata": {},
   "outputs": [],
   "source": [
    "{True:'yes', 1:'no', 1.0:'maybe'}"
   ]
  },
  {
   "cell_type": "code",
   "execution_count": null,
   "metadata": {},
   "outputs": [],
   "source": [
    "# This occurs because python builds the dictionary one item at a time\n",
    "d = dict()\n",
    "d[True] = 'yes' # bool is a subclass of int\n",
    "d[1] = 'no'\n",
    "d[1.0] = 'maybe'\n",
    "\n",
    "d"
   ]
  },
  {
   "cell_type": "code",
   "execution_count": null,
   "metadata": {},
   "outputs": [],
   "source": [
    "class AlwaysEquals:\n",
    "    def __eq__(self, other):\n",
    "        return True # Always returns true when compared\n",
    "    def __hash__(self):\n",
    "        return 1 # Hash is always the same\n",
    "    \n",
    "# Dictionary keys are overwritten if they have the same key and hash\n",
    "\n",
    "{AlwaysEquals():'yes', AlwaysEquals():'no'}"
   ]
  },
  {
   "cell_type": "markdown",
   "metadata": {},
   "source": [
    "### Merge"
   ]
  },
  {
   "cell_type": "code",
   "execution_count": null,
   "metadata": {},
   "outputs": [],
   "source": [
    "xs = {'a':1, 'b':2}\n",
    "ys = {'b': 3, 'c':4}\n",
    "\n",
    "# Use update method to add dictionaries\n",
    "zs = {}\n",
    "zs.update(xs)\n",
    "zs.update(ys)\n",
    "zs"
   ]
  },
  {
   "cell_type": "code",
   "execution_count": null,
   "metadata": {},
   "outputs": [],
   "source": [
    "# You can also use unpacking\n",
    "zs = {**xs, **ys}\n",
    "zs"
   ]
  },
  {
   "cell_type": "markdown",
   "metadata": {},
   "source": [
    "### Pretty Print"
   ]
  },
  {
   "cell_type": "code",
   "execution_count": null,
   "metadata": {},
   "outputs": [],
   "source": [
    "# Use json to pretty print dictionaries\n",
    "import json\n",
    "\n",
    "d = {'a':4, 'c':2, 'b':3, 'd':1}\n",
    "print(json.dumps(d, indent=4, sort_keys=True))"
   ]
  },
  {
   "cell_type": "code",
   "execution_count": null,
   "metadata": {},
   "outputs": [],
   "source": [
    "# Use pprint for un-serializable (json) dicts\n",
    "d['a'] = {1, 2, 3, 4} # set\n",
    "\n",
    "import pprint\n",
    "pprint.pprint(d)"
   ]
  }
 ],
 "metadata": {
  "kernelspec": {
   "display_name": "Python 3",
   "language": "python",
   "name": "python3"
  },
  "language_info": {
   "codemirror_mode": {
    "name": "ipython",
    "version": 3
   },
   "file_extension": ".py",
   "mimetype": "text/x-python",
   "name": "python",
   "nbconvert_exporter": "python",
   "pygments_lexer": "ipython3",
   "version": "3.6.3"
  }
 },
 "nbformat": 4,
 "nbformat_minor": 2
}
