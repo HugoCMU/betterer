{
 "cells": [
  {
   "cell_type": "markdown",
   "metadata": {},
   "source": [
    "### Print directory contents\n",
    "\n",
    "This function takes the name of a directory and prints out the paths files within that directory as well as any files contained in contained directories. \n",
    "\n",
    "This function is similar to os.walk. Please don't use os.walk in your answer. We are interested in your ability to work with nested structures. \n",
    "    \n",
    "Sources:\n",
    "[1] https://www.codementor.io/sheena/essential-python-interview-questions-du107ozr6\n"
   ]
  },
  {
   "cell_type": "code",
   "execution_count": 3,
   "metadata": {
    "ExecuteTime": {
     "end_time": "2018-02-04T21:15:26.688688Z",
     "start_time": "2018-02-04T21:15:26.640876Z"
    }
   },
   "outputs": [
    {
     "name": "stdout",
     "output_type": "stream",
     "text": [
      "With pathlib:\n",
      "command_pattern.py\n",
      "fibonacci_generator.ipynb\n",
      "2_functions.ipynb\n",
      "3_classes_and_inheritance.ipynb\n",
      "decorator_tester.py\n",
      "print_directory_contents-checkpoint.ipynb\n",
      "fibonacci_generator-checkpoint.ipynb\n",
      "print_directory_contents.ipynb\n",
      "With pathlib:\n",
      "command_pattern.py\n",
      "fibonacci_generator.ipynb\n",
      "2_functions.ipynb\n",
      "3_classes_and_inheritance.ipynb\n",
      "decorator_tester.py\n",
      "print_directory_contents-checkpoint.ipynb\n",
      "fibonacci_generator-checkpoint.ipynb\n",
      "print_directory_contents.ipynb\n"
     ]
    }
   ],
   "source": [
    "import os\n",
    "from pathlib import Path\n",
    "\n",
    "# Using pathlib\n",
    "def print_directory_contents_pathlib(path):\n",
    "    if isinstance(path, str):\n",
    "        path = Path(path)\n",
    "    for file in path.iterdir():\n",
    "        if file.is_dir():\n",
    "            print_directory_contents_pathlib(file)\n",
    "        else:\n",
    "            print(file.name)\n",
    "        \n",
    "# Using os \n",
    "def print_directory_contents_os(sPath):\n",
    "    for sChild in os.listdir(sPath):\n",
    "        sChildPath = os.path.join(sPath, sChild)\n",
    "        if os.path.isdir(sChildPath):\n",
    "            print_directory_contents_os(sChildPath)\n",
    "        else:\n",
    "            print(sChild)\n",
    "            \n",
    "# Use current repo as test directory\n",
    "test_path = Path.cwd()\n",
    "\n",
    "print('With pathlib:')\n",
    "print_directory_contents_pathlib(str(test_path))\n",
    "\n",
    "print('With pathlib:')\n",
    "print_directory_contents_pathlib(str(test_path))"
   ]
  },
  {
   "cell_type": "code",
   "execution_count": null,
   "metadata": {},
   "outputs": [],
   "source": []
  }
 ],
 "metadata": {
  "kernelspec": {
   "display_name": "Python [conda env:vectorize]",
   "language": "python",
   "name": "conda-env-vectorize-py"
  },
  "language_info": {
   "codemirror_mode": {
    "name": "ipython",
    "version": 3
   },
   "file_extension": ".py",
   "mimetype": "text/x-python",
   "name": "python",
   "nbconvert_exporter": "python",
   "pygments_lexer": "ipython3",
   "version": "3.5.4"
  }
 },
 "nbformat": 4,
 "nbformat_minor": 2
}
