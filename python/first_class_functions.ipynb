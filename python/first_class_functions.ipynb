{
 "cells": [
  {
   "cell_type": "markdown",
   "metadata": {},
   "source": [
    "## First Class Functions\n",
    "\n",
    "Some best practices regarding functions (why they are first class) in Python, this comes from:\n",
    "\n",
    " - [1] https://dbader.org/blog/python-first-class-functions"
   ]
  },
  {
   "cell_type": "code",
   "execution_count": 9,
   "metadata": {
    "ExecuteTime": {
     "end_time": "2018-02-15T02:14:40.973816Z",
     "start_time": "2018-02-15T02:14:40.962307Z"
    }
   },
   "outputs": [
    {
     "data": {
      "text/plain": [
       "'HELLO!'"
      ]
     },
     "execution_count": 9,
     "metadata": {},
     "output_type": "execute_result"
    }
   ],
   "source": [
    "def yell(text):\n",
    "    return text.upper() + '!'\n",
    "\n",
    "yell('hello')"
   ]
  },
  {
   "cell_type": "code",
   "execution_count": 10,
   "metadata": {
    "ExecuteTime": {
     "end_time": "2018-02-15T02:14:41.604817Z",
     "start_time": "2018-02-15T02:14:41.596633Z"
    }
   },
   "outputs": [
    {
     "data": {
      "text/plain": [
       "'WOOF!'"
      ]
     },
     "execution_count": 10,
     "metadata": {},
     "output_type": "execute_result"
    }
   ],
   "source": [
    "# Since functions are objects, you can assign them to variables\n",
    "bark = yell\n",
    "bark('woof')"
   ]
  },
  {
   "cell_type": "code",
   "execution_count": 11,
   "metadata": {
    "ExecuteTime": {
     "end_time": "2018-02-15T02:14:41.968310Z",
     "start_time": "2018-02-15T02:14:41.958949Z"
    }
   },
   "outputs": [
    {
     "data": {
      "text/plain": [
       "'yell'"
      ]
     },
     "execution_count": 11,
     "metadata": {},
     "output_type": "execute_result"
    }
   ],
   "source": [
    "del yell\n",
    "# yell('hello') # This will not work because yell is no longer defined\n",
    "bark('woof') # bark is still defined (yell was just the name (reference) to the underlying function)\n",
    "\n",
    "# Even more mindfuck\n",
    "bark.__name__"
   ]
  },
  {
   "cell_type": "code",
   "execution_count": 12,
   "metadata": {
    "ExecuteTime": {
     "end_time": "2018-02-15T02:15:39.254305Z",
     "start_time": "2018-02-15T02:15:39.248230Z"
    }
   },
   "outputs": [
    {
     "data": {
      "text/plain": [
       "[<function __main__.yell>,\n",
       " <method 'upper' of 'str' objects>,\n",
       " <method 'lower' of 'str' objects>]"
      ]
     },
     "execution_count": 12,
     "metadata": {},
     "output_type": "execute_result"
    }
   ],
   "source": [
    "# Functions can be stored in data functions\n",
    "funcs = [bark, str.upper, str.lower]\n",
    "funcs"
   ]
  },
  {
   "cell_type": "code",
   "execution_count": 14,
   "metadata": {
    "ExecuteTime": {
     "end_time": "2018-02-15T02:16:36.578148Z",
     "start_time": "2018-02-15T02:16:36.573643Z"
    }
   },
   "outputs": [
    {
     "name": "stdout",
     "output_type": "stream",
     "text": [
      "<function yell at 0x7f3ad8316a60> HEY!\n",
      "<method 'upper' of 'str' objects> HEY\n",
      "<method 'lower' of 'str' objects> hey\n"
     ]
    },
    {
     "data": {
      "text/plain": [
       "'HEY!'"
      ]
     },
     "execution_count": 14,
     "metadata": {},
     "output_type": "execute_result"
    }
   ],
   "source": [
    "# You can iterate through them\n",
    "for f in funcs:\n",
    "    print(f, f('hey'))\n",
    "    \n",
    "# Or even call them by specific index\n",
    "funcs[0]('hey')"
   ]
  },
  {
   "cell_type": "code",
   "execution_count": 16,
   "metadata": {
    "ExecuteTime": {
     "end_time": "2018-02-15T02:18:25.028565Z",
     "start_time": "2018-02-15T02:18:25.021373Z"
    }
   },
   "outputs": [
    {
     "name": "stdout",
     "output_type": "stream",
     "text": [
      "hey there...\n"
     ]
    }
   ],
   "source": [
    "# You can pass them to functions as arguments\n",
    "def whisper(text):\n",
    "    return text.lower() + '...'\n",
    "\n",
    "def greet(func):\n",
    "    print(func('Hey There'))\n",
    "    \n",
    "greet(whisper)"
   ]
  },
  {
   "cell_type": "markdown",
   "metadata": {},
   "source": [
    "Functions that can accept functions as arguments are known as higher order functions"
   ]
  },
  {
   "cell_type": "code",
   "execution_count": 17,
   "metadata": {
    "ExecuteTime": {
     "end_time": "2018-02-15T02:19:54.871845Z",
     "start_time": "2018-02-15T02:19:54.865091Z"
    }
   },
   "outputs": [
    {
     "data": {
      "text/plain": [
       "['HI!', 'HELLO!', 'HEY!']"
      ]
     },
     "execution_count": 17,
     "metadata": {},
     "output_type": "execute_result"
    }
   ],
   "source": [
    "# You can use the map to feed\n",
    "list(map(bark, ['hi', 'hello', 'hey']))"
   ]
  },
  {
   "cell_type": "code",
   "execution_count": 20,
   "metadata": {
    "ExecuteTime": {
     "end_time": "2018-02-15T02:24:01.802914Z",
     "start_time": "2018-02-15T02:24:01.793337Z"
    }
   },
   "outputs": [
    {
     "name": "stdout",
     "output_type": "stream",
     "text": [
      "HELLO\n"
     ]
    },
    {
     "data": {
      "text/plain": [
       "<function __main__.get_speak_func.<locals>.whisper>"
      ]
     },
     "execution_count": 20,
     "metadata": {},
     "output_type": "execute_result"
    }
   ],
   "source": [
    "# You can define functions within the scope of other functions and return them\n",
    "def get_speak_func(volume):\n",
    "    def whisper(text):\n",
    "        return text.lower()\n",
    "    def yell(text):\n",
    "        return text.upper()\n",
    "    if volume > 0.5:\n",
    "        return yell\n",
    "    else:\n",
    "        return whisper\n",
    "    \n",
    "speak = get_speak_func(1)\n",
    "print(speak('hello'))\n",
    "\n",
    "get_speak_func(0.1)"
   ]
  },
  {
   "cell_type": "code",
   "execution_count": 21,
   "metadata": {
    "ExecuteTime": {
     "end_time": "2018-02-15T02:28:42.797549Z",
     "start_time": "2018-02-15T02:28:42.788890Z"
    }
   },
   "outputs": [
    {
     "data": {
      "text/plain": [
       "7"
      ]
     },
     "execution_count": 21,
     "metadata": {},
     "output_type": "execute_result"
    }
   ],
   "source": [
    "# You can use nested functions to make lexical closures\n",
    "def make_adder(n):\n",
    "    def add(x):\n",
    "        return x + n\n",
    "    return add\n",
    "\n",
    "plus_3 = make_adder(3)\n",
    "\n",
    "plus_3(4)"
   ]
  },
  {
   "cell_type": "code",
   "execution_count": 24,
   "metadata": {
    "ExecuteTime": {
     "end_time": "2018-02-15T02:30:56.678188Z",
     "start_time": "2018-02-15T02:30:56.671247Z"
    }
   },
   "outputs": [
    {
     "data": {
      "text/plain": [
       "7"
      ]
     },
     "execution_count": 24,
     "metadata": {},
     "output_type": "execute_result"
    }
   ],
   "source": [
    "# Objects can behave like functions with the __call__ method\n",
    "class Adder:\n",
    "    def __init__(self, n):\n",
    "        self.n = n\n",
    "    def __call__(self, x):\n",
    "        return x + self.n\n",
    "    \n",
    "plus_3 = Adder(3)\n",
    "plus_3(4)"
   ]
  },
  {
   "cell_type": "code",
   "execution_count": 25,
   "metadata": {
    "ExecuteTime": {
     "end_time": "2018-02-15T02:31:48.553418Z",
     "start_time": "2018-02-15T02:31:48.548848Z"
    }
   },
   "outputs": [
    {
     "name": "stdout",
     "output_type": "stream",
     "text": [
      "True\n",
      "False\n"
     ]
    }
   ],
   "source": [
    "# You can use the built in callable function to check if an object is callable\n",
    "print(callable(Adder))\n",
    "print(callable(False))"
   ]
  }
 ],
 "metadata": {
  "kernelspec": {
   "display_name": "Python [conda env:vectorize]",
   "language": "python",
   "name": "conda-env-vectorize-py"
  },
  "language_info": {
   "codemirror_mode": {
    "name": "ipython",
    "version": 3
   },
   "file_extension": ".py",
   "mimetype": "text/x-python",
   "name": "python",
   "nbconvert_exporter": "python",
   "pygments_lexer": "ipython3",
   "version": "3.5.4"
  }
 },
 "nbformat": 4,
 "nbformat_minor": 2
}
