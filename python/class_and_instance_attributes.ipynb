{
 "cells": [
  {
   "cell_type": "markdown",
   "metadata": {},
   "source": [
    "### Class and Instance attributes\n",
    "\n",
    "Create a Pet class that counts the number of pets when new pets are created\n",
    "\n",
    "Source:\n",
    " - [1] https://www.interviewcake.com/python-interview-questions"
   ]
  },
  {
   "cell_type": "code",
   "execution_count": 6,
   "metadata": {
    "ExecuteTime": {
     "end_time": "2018-02-05T16:23:18.286967Z",
     "start_time": "2018-02-05T16:23:18.269052Z"
    }
   },
   "outputs": [],
   "source": [
    "class Pet(object):\n",
    "    \n",
    "    num_pets = 0\n",
    "    \n",
    "    def __init__(self, name):\n",
    "        self.name = name\n",
    "        Pet.num_pets += 1\n",
    "        \n",
    "    def __str__(self):\n",
    "        return 'This is the %s. There are %s pets' % (self.name, Pet.num_pets)"
   ]
  },
  {
   "cell_type": "code",
   "execution_count": 7,
   "metadata": {
    "ExecuteTime": {
     "end_time": "2018-02-05T16:23:19.408957Z",
     "start_time": "2018-02-05T16:23:19.404017Z"
    }
   },
   "outputs": [
    {
     "name": "stdout",
     "output_type": "stream",
     "text": [
      "This is the cat. There are 2 pets\n"
     ]
    }
   ],
   "source": [
    "dog = Pet('dog')\n",
    "cat = Pet('cat')\n",
    "print(cat)"
   ]
  }
 ],
 "metadata": {
  "kernelspec": {
   "display_name": "Python [conda env:vectorize]",
   "language": "python",
   "name": "conda-env-vectorize-py"
  },
  "language_info": {
   "codemirror_mode": {
    "name": "ipython",
    "version": 3
   },
   "file_extension": ".py",
   "mimetype": "text/x-python",
   "name": "python",
   "nbconvert_exporter": "python",
   "pygments_lexer": "ipython3",
   "version": "3.5.4"
  }
 },
 "nbformat": 4,
 "nbformat_minor": 2
}
