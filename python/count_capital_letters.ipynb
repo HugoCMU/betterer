{
 "cells": [
  {
   "cell_type": "markdown",
   "metadata": {},
   "source": [
    "### Count Capital Letters\n",
    "\n",
    "Write a one-liner that will count the number of capital letters in a file. Your code should work even if the file is too big to fit in memory.\n",
    "\n",
    "Source:\n",
    " - [1] https://www.interviewcake.com/python-interview-questions"
   ]
  },
  {
   "cell_type": "code",
   "execution_count": 1,
   "metadata": {
    "ExecuteTime": {
     "end_time": "2018-02-05T16:13:27.473993Z",
     "start_time": "2018-02-05T16:13:27.384322Z"
    }
   },
   "outputs": [
    {
     "ename": "NameError",
     "evalue": "name 'SOME_LARGE_FILE' is not defined",
     "output_type": "error",
     "traceback": [
      "\u001b[0;31m---------------------------------------------------------------------\u001b[0m",
      "\u001b[0;31mNameError\u001b[0m                           Traceback (most recent call last)",
      "\u001b[0;32m<ipython-input-1-e10c4c2c0f2f>\u001b[0m in \u001b[0;36m<module>\u001b[0;34m()\u001b[0m\n\u001b[1;32m      1\u001b[0m \u001b[0;31m# Write it out not in one line first\u001b[0m\u001b[0;34m\u001b[0m\u001b[0;34m\u001b[0m\u001b[0m\n\u001b[0;32m----> 2\u001b[0;31m \u001b[0;32mwith\u001b[0m \u001b[0mopen\u001b[0m\u001b[0;34m(\u001b[0m\u001b[0mSOME_LARGE_FILE\u001b[0m\u001b[0;34m)\u001b[0m \u001b[0;32mas\u001b[0m \u001b[0mfh\u001b[0m\u001b[0;34m:\u001b[0m\u001b[0;34m\u001b[0m\u001b[0m\n\u001b[0m\u001b[1;32m      3\u001b[0m     \u001b[0mcount\u001b[0m \u001b[0;34m=\u001b[0m \u001b[0;36m0\u001b[0m\u001b[0;34m\u001b[0m\u001b[0m\n\u001b[1;32m      4\u001b[0m     \u001b[0;31m# use iter to create iterable, stops on '' character\u001b[0m\u001b[0;34m\u001b[0m\u001b[0;34m\u001b[0m\u001b[0m\n\u001b[1;32m      5\u001b[0m     \u001b[0;32mfor\u001b[0m \u001b[0mline\u001b[0m \u001b[0;32min\u001b[0m \u001b[0miter\u001b[0m\u001b[0;34m(\u001b[0m\u001b[0mfh\u001b[0m\u001b[0;34m.\u001b[0m\u001b[0mreadline\u001b[0m\u001b[0;34m(\u001b[0m\u001b[0;34m)\u001b[0m\u001b[0;34m,\u001b[0m \u001b[0;34m''\u001b[0m\u001b[0;34m)\u001b[0m\u001b[0;34m:\u001b[0m\u001b[0;34m\u001b[0m\u001b[0m\n",
      "\u001b[0;31mNameError\u001b[0m: name 'SOME_LARGE_FILE' is not defined"
     ]
    }
   ],
   "source": [
    "# Write it out not in one line first\n",
    "with open(SOME_LARGE_FILE) as fh:\n",
    "    count = 0\n",
    "    # use iter to create iterable, stops on '' character\n",
    "    for line in iter(fh.readline(), ''):\n",
    "        for char in line:\n",
    "            if char.isupper():\n",
    "                count += 1\n",
    "                \n",
    "# Apparently in Python3 file reader objects can be used as readline iterators\n",
    "with open(SOME_LARGE_FILE) as fh:\n",
    "    count = 0\n",
    "    for line in fh:\n",
    "        for char in line:\n",
    "            # Use inline if-else to increment count\n",
    "            count += (1 if char.isupper() else 0)\n",
    "            \n",
    "# Convert the logic to a one liner\n",
    "with open(SOME_LARGE_FILE) as fh:\n",
    "    count = sum(((1 if char.isupper() else 0) for char in line) for line in fh)\n",
    "    \n",
    "# Clean up the one liner\n",
    "with open(SOME_LARGE_FILE) as fh:\n",
    "    count = sum(char.isupper() for line in fh for char in line)   "
   ]
  },
  {
   "cell_type": "code",
   "execution_count": null,
   "metadata": {},
   "outputs": [],
   "source": []
  }
 ],
 "metadata": {
  "kernelspec": {
   "display_name": "Python [conda env:vectorize]",
   "language": "python",
   "name": "conda-env-vectorize-py"
  },
  "language_info": {
   "codemirror_mode": {
    "name": "ipython",
    "version": 3
   },
   "file_extension": ".py",
   "mimetype": "text/x-python",
   "name": "python",
   "nbconvert_exporter": "python",
   "pygments_lexer": "ipython3",
   "version": "3.5.4"
  }
 },
 "nbformat": 4,
 "nbformat_minor": 2
}
