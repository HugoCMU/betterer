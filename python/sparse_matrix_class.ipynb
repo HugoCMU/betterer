{
 "cells": [
  {
   "cell_type": "markdown",
   "metadata": {},
   "source": [
    "### Sparse Matrix\n",
    "\n",
    "Create a sparse matrix class with a function to multiply a vector by it"
   ]
  },
  {
   "cell_type": "code",
   "execution_count": 8,
   "metadata": {
    "ExecuteTime": {
     "end_time": "2018-02-15T23:16:54.671696Z",
     "start_time": "2018-02-15T23:16:54.637951Z"
    }
   },
   "outputs": [
    {
     "data": {
      "text/plain": [
       "[0, 0, 5]"
      ]
     },
     "execution_count": 8,
     "metadata": {},
     "output_type": "execute_result"
    }
   ],
   "source": [
    "from collections import namedtuple\n",
    "\n",
    "# make a named tuple\n",
    "non_zero_val = namedtuple('Item', ['row', 'col', 'val'])\n",
    "\n",
    "class Sparse:\n",
    "    def __init__(self, dim):\n",
    "        self.dim = dim\n",
    "        self.non_zero = []\n",
    "\n",
    "    def multiply_by_vec(self, vec):\n",
    "        \"\"\"\n",
    "        Multiplies the sparse matrix by a given vector\n",
    "        :param vec: [list of ints] vector to multiply with\n",
    "        :return final_sum: [list of ints] vector output of multiplication\n",
    "        :raises AssertionError: Not all ints in input vector\n",
    "        \"\"\"\n",
    "        assert all(isinstance(x, int) for x in vec), 'All items of vector must be ints'\n",
    "        sum_vector = [[0] for _ in range(self.dim[1])]\n",
    "        # Iterate through each of the non-zero values in our sparse matrix\n",
    "        for item in self.non_zero:\n",
    "            sum_vector[item.col].append(item.val * vec[item.row])\n",
    "        final_sum = [sum(x) for x in sum_vector]\n",
    "        return final_sum\n",
    "    \n",
    "    def insert(self, row, col, val):\n",
    "        new_item = non_zero_val(row, col, val)\n",
    "        self.non_zero.append(new_item)\n",
    "        \n",
    "sparse = Sparse((3, 3))\n",
    "sparse.insert(1, 2, 1)\n",
    "sparse.insert(2, 2, 1)\n",
    "sparse.multiply_by_vec([1, 2, 3])"
   ]
  }
 ],
 "metadata": {
  "kernelspec": {
   "display_name": "Python 3",
   "language": "python",
   "name": "python3"
  },
  "language_info": {
   "codemirror_mode": {
    "name": "ipython",
    "version": 3
   },
   "file_extension": ".py",
   "mimetype": "text/x-python",
   "name": "python",
   "nbconvert_exporter": "python",
   "pygments_lexer": "ipython3",
   "version": "3.6.3"
  }
 },
 "nbformat": 4,
 "nbformat_minor": 2
}
