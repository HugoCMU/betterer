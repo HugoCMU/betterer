{
 "cells": [
  {
   "cell_type": "markdown",
   "metadata": {},
   "source": [
    "### Threading (IO and CPU at the same time)\n",
    "\n",
    "In Python threading package enables us to perform concurrent tasks. When you need to make concurrent I/O requests, or working with the combination of CPU + I/O, you use threads. Let us write a small example showing how to calculate Fibonacci and copy the STDIN to STDOUT at the same time\n",
    "\n",
    "Source:\n",
    " - [1] https://medium.com/dev-bits/a-cup-of-gos-concurrent-programming-for-python-developers-a80e621c45ff"
   ]
  },
  {
   "cell_type": "code",
   "execution_count": 2,
   "metadata": {
    "ExecuteTime": {
     "end_time": "2018-02-10T23:05:03.812257Z",
     "start_time": "2018-02-10T23:05:03.797323Z"
    }
   },
   "outputs": [],
   "source": [
    "import threading\n",
    "import fileinput\n",
    "import time\n",
    "import random\n",
    "\n",
    "class CopyIO(threading.Thread):\n",
    "    \"\"\"Copies text from STDIN to STDOUT\n",
    "    \"\"\"\n",
    "    def __init__(self):\n",
    "        super(CopyIO, self).__init__()\n",
    "        \n",
    "    def run(self):\n",
    "        for line in fileinput.input():\n",
    "            print('You entered: %s' % line)\n",
    "\n",
    "class CalculateFibonacci(threading.Thread):\n",
    "    \"\"\"Computes a random Fibonacci number every three seconds\n",
    "    \"\"\"\n",
    "    def __init__(self):\n",
    "        super(CalculateFibonacci, self).__init__()\n",
    "        \n",
    "    def run(self):\n",
    "        while True:\n",
    "            # Generate random number\n",
    "            rand_num = random.randint(1000, 10000)\n",
    "            print('Random number is %s' % rand_num)\n",
    "            print('Fibonacci number is %s' % self.fib(rand_num))\n",
    "            \n",
    "    def fib(self, n, c={0:1, 1:1}):\n",
    "        if n not in c:\n",
    "            x = n // 2\n",
    "            c[n] = self.fib(x-1) * self.fib(n-x-1) + self.fib(x) * self.fib(n-x)\n",
    "        return c[n]\n",
    "        "
   ]
  },
  {
   "cell_type": "code",
   "execution_count": null,
   "metadata": {},
   "outputs": [],
   "source": [
    "t1 = CopyIO()\n",
    "t2 = CalculateFibonacci()\n",
    "\n",
    "t1.start()\n",
    "t2.start()"
   ]
  }
 ],
 "metadata": {
  "kernelspec": {
   "display_name": "Python [conda env:vectorize]",
   "language": "python",
   "name": "conda-env-vectorize-py"
  },
  "language_info": {
   "codemirror_mode": {
    "name": "ipython",
    "version": 3
   },
   "file_extension": ".py",
   "mimetype": "text/x-python",
   "name": "python",
   "nbconvert_exporter": "python",
   "pygments_lexer": "ipython3",
   "version": "3.5.4"
  }
 },
 "nbformat": 4,
 "nbformat_minor": 2
}
