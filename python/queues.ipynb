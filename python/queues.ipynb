{
 "cells": [
  {
   "cell_type": "markdown",
   "metadata": {},
   "source": [
    "### Queues\n",
    "\n",
    "How to implement a FIFO queue data structure in Python using only built-in data types and classes from the standard library.\n",
    "\n",
    "Source:\n",
    "- [1] https://dbader.org/blog/queues-in-python"
   ]
  },
  {
   "cell_type": "code",
   "execution_count": null,
   "metadata": {},
   "outputs": [],
   "source": [
    "# Using a list as a FIFO queue (note that this is slow)\n",
    "q = []\n",
    "q.append('a')\n",
    "q.append('b')\n",
    "print(q)\n",
    "q.pop(0) # This takes O(n) time because you have to shift all the remaining elements by one"
   ]
  },
  {
   "cell_type": "code",
   "execution_count": null,
   "metadata": {},
   "outputs": [],
   "source": [
    "from collections import deque\n",
    "# deque is a double ended queue implemented as a doubly linked list. O(1) for retrieval/adding on either end.\n",
    "q = deque()\n",
    "q.append('a')\n",
    "q.append('b')\n",
    "q.append('c')\n",
    "print(q)\n",
    "print(q[1]) # Accessing elements in the middle takes O(n) time\n",
    "print(q.popleft())\n",
    "print(q.pop())\n",
    "print(q)"
   ]
  },
  {
   "cell_type": "code",
   "execution_count": null,
   "metadata": {},
   "outputs": [],
   "source": [
    "from queue import Queue\n",
    "# The queue module also contains a queue implementation. \n",
    "# This one has locking so it can be used by multiple concurrent processes (note that this means extra overhead)\n",
    "q = Queue()\n",
    "q.put('a')\n",
    "q.put('b')\n",
    "q.put('c')\n",
    "print(q)\n",
    "print(q.get())\n",
    "print(q.get())\n",
    "print(q.get())\n",
    "# print(q.get()) # This will block and wait forever because there is nothing in the queue\n",
    "q.get_nowait() # This will resolve and return None"
   ]
  },
  {
   "cell_type": "code",
   "execution_count": null,
   "metadata": {},
   "outputs": [],
   "source": [
    "from multiprocessing import Queue\n",
    "# The multiprocessing module has a queue that allows process-based parallelization by multiple workers\n",
    "# This is possible because of the GIL\n",
    "q = Queue()\n",
    "q.put('a')\n",
    "q.put('b')\n",
    "q.put('c')\n",
    "print(q)\n",
    "print(q.get())\n",
    "print(q.get())\n",
    "print(q.get())\n",
    "q.get() # Blocks and waits forever"
   ]
  }
 ],
 "metadata": {
  "kernelspec": {
   "display_name": "Python [conda env:vectorize]",
   "language": "python",
   "name": "conda-env-vectorize-py"
  },
  "language_info": {
   "codemirror_mode": {
    "name": "ipython",
    "version": 3
   },
   "file_extension": ".py",
   "mimetype": "text/x-python",
   "name": "python",
   "nbconvert_exporter": "python",
   "pygments_lexer": "ipython3",
   "version": "3.5.4"
  }
 },
 "nbformat": 4,
 "nbformat_minor": 2
}
