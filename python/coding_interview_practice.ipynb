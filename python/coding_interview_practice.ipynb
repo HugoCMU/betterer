{
 "cells": [
  {
   "cell_type": "markdown",
   "metadata": {},
   "source": [
    "## Python Coding Questions\n",
    "\n",
    "Some practice python coding questions. Sourced from:\n",
    "\n",
    " - [1] https://github.com/zhiwehu/Python-programming-exercises"
   ]
  },
  {
   "cell_type": "markdown",
   "metadata": {},
   "source": [
    "### Question\n",
    "Define a function which can generate a dictionary where the keys are numbers between 1 and 20 (both included) and the values are square of keys. The function should just print the keys only.\n",
    "\n"
   ]
  },
  {
   "cell_type": "code",
   "execution_count": 3,
   "metadata": {
    "ExecuteTime": {
     "end_time": "2018-02-15T17:31:50.289996Z",
     "start_time": "2018-02-15T17:31:50.285461Z"
    }
   },
   "outputs": [
    {
     "name": "stdout",
     "output_type": "stream",
     "text": [
      "[1, 2, 3, 4, 5, 6, 7, 8, 9, 10, 11, 12, 13, 14, 15, 16, 17, 18, 19, 20]\n"
     ]
    }
   ],
   "source": [
    "def print_dict():\n",
    "    generated_dict = dict((a, a**2) for a in range(1, 21))\n",
    "    print(list(generated_dict.keys()))\n",
    "\n",
    "print_dict()"
   ]
  },
  {
   "cell_type": "markdown",
   "metadata": {},
   "source": [
    "### Question\n",
    "Define a class named Shape and its subclass Square. The Square class has an init function which takes a length as argument. Both classes have a area function which can print the area of the shape where Shape's area is 0 by default.\n"
   ]
  },
  {
   "cell_type": "code",
   "execution_count": 13,
   "metadata": {
    "ExecuteTime": {
     "end_time": "2018-02-15T17:50:24.350704Z",
     "start_time": "2018-02-15T17:50:24.340025Z"
    }
   },
   "outputs": [
    {
     "name": "stdout",
     "output_type": "stream",
     "text": [
      "4\n",
      "0\n"
     ]
    }
   ],
   "source": [
    "class Shape:\n",
    "    def area(self):\n",
    "        return 0\n",
    "        \n",
    "class Square(Shape):\n",
    "    def __init__(self, length):\n",
    "        self.length = length\n",
    "    def area(self):\n",
    "        return self.length ** 2\n",
    "\n",
    "# Square Shape\n",
    "square = Square(2)\n",
    "print(square.area())\n",
    "\n",
    "# Generic Shape\n",
    "shape = Shape()\n",
    "print(shape.area())"
   ]
  },
  {
   "cell_type": "markdown",
   "metadata": {},
   "source": [
    "## Question\n",
    "Assuming that we have some email addresses in the \"username@companyname.com\" format, please write program to print the user name of a given email address. Both user names and company names are composed of letters only."
   ]
  },
  {
   "cell_type": "code",
   "execution_count": 22,
   "metadata": {
    "ExecuteTime": {
     "end_time": "2018-02-15T17:58:07.908418Z",
     "start_time": "2018-02-15T17:58:07.901343Z"
    }
   },
   "outputs": [
    {
     "name": "stdout",
     "output_type": "stream",
     "text": [
      "username: hello\n",
      "company: google\n"
     ]
    }
   ],
   "source": [
    "import re\n",
    "\n",
    "def extract_username(email):\n",
    "    assert isinstance(email, str), 'Email must be a string'\n",
    "    regex_out = re.search('([A-Za-z]+)@([A-Za-z]+)\\.com', email)\n",
    "    username, company = regex_out.groups()\n",
    "    return username, company\n",
    "    \n",
    "username, company = extract_username('hello@google.com')\n",
    "print('username: %s' % username)\n",
    "print('company: %s' % company)"
   ]
  },
  {
   "cell_type": "markdown",
   "metadata": {},
   "source": [
    "## Question\n",
    "\n",
    "Write a program which accepts a sequence of words separated by whitespace as input to print the words composed of digits only.\n"
   ]
  },
  {
   "cell_type": "code",
   "execution_count": 27,
   "metadata": {
    "ExecuteTime": {
     "end_time": "2018-02-15T18:06:09.151795Z",
     "start_time": "2018-02-15T18:05:52.323091Z"
    }
   },
   "outputs": [
    {
     "name": "stdout",
     "output_type": "stream",
     "text": [
      "4.23 µs ± 25.1 ns per loop (mean ± std. dev. of 7 runs, 100000 loops each)\n",
      "1.65 µs ± 4.18 ns per loop (mean ± std. dev. of 7 runs, 1000000 loops each)\n"
     ]
    }
   ],
   "source": [
    "# My solution, albeit slower because of the try,except formulation\n",
    "def digit_extractor(sentence):\n",
    "    assert isinstance(sentence, str), 'Given sentence must be a string'\n",
    "    words = sentence.split()\n",
    "    digits = []\n",
    "    for word in words:\n",
    "        try:\n",
    "            digits.append(int(word))\n",
    "        except:\n",
    "            pass\n",
    "    return digits\n",
    "\n",
    "%timeit digit_extractor('2 cats and 3 dogs.')\n",
    "\n",
    "# The given solution did this using regex\n",
    "import re\n",
    "digit_extractor = lambda s: re.findall('\\d+', s)\n",
    "%timeit digit_extractor('2 cats and 3 dogs.')"
   ]
  },
  {
   "cell_type": "markdown",
   "metadata": {},
   "source": [
    "## Question\n",
    "\n",
    "With two given lists [1,3,6,78,35,55] and [12,24,35,24,88,120,155], write a program to make a list whose elements are intersection of the above given lists."
   ]
  },
  {
   "cell_type": "code",
   "execution_count": 37,
   "metadata": {
    "ExecuteTime": {
     "end_time": "2018-02-15T18:21:39.825609Z",
     "start_time": "2018-02-15T18:20:52.466438Z"
    }
   },
   "outputs": [
    {
     "name": "stdout",
     "output_type": "stream",
     "text": [
      "With asserts and without deque\n",
      "24.8 µs ± 240 ns per loop (mean ± std. dev. of 7 runs, 10000 loops each)\n",
      "Without asserts and without deque\n",
      "19.7 µs ± 73.1 ns per loop (mean ± std. dev. of 7 runs, 100000 loops each)\n",
      "Without asserts and with deque\n",
      "19.6 µs ± 7.84 ns per loop (mean ± std. dev. of 7 runs, 100000 loops each)\n",
      "Set solution without asserts\n",
      "1.65 µs ± 7.21 ns per loop (mean ± std. dev. of 7 runs, 1000000 loops each)\n"
     ]
    }
   ],
   "source": [
    "from collections import deque\n",
    "\n",
    "list1 = [1,3,6,78,35,55, 57, 14, 96, 24, 57, 42, 123, 567, 97]\n",
    "list2 = [12,24,35,24,88,120,155, 24, 57, 908, 12, 345, 678, 23, 123, 567, 789]\n",
    "\n",
    "# My solution, using a list comprehension inside a for loop\n",
    "def intersection(list1, list2):\n",
    "    assert all(isinstance(x, list) for x in [list1, list2]), 'Lists given musts be lists'\n",
    "    assert all(isinstance(x, int) for arg_list in [list1, list2] for x in arg_list), 'Elements of lists must be ints'\n",
    "    intersection = [deque()]\n",
    "    for i in list1:\n",
    "        if any(i == x for x in list2):\n",
    "            intersection.append(i)\n",
    "    return intersection\n",
    "    \n",
    "print('With asserts and without deque')\n",
    "%timeit intersection(list1, list2)\n",
    "\n",
    "# My solution, using a list comprehension inside a for loop\n",
    "def intersection(list1, list2):\n",
    "    intersection = []\n",
    "    for i in list1:\n",
    "        if any(i == x for x in list2):\n",
    "            intersection.append(i)\n",
    "    return intersection\n",
    "\n",
    "print('Without asserts and without deque')\n",
    "%timeit intersection(list1, list2)\n",
    "\n",
    "# My solution, using a list comprehension inside a for loop\n",
    "def intersection(list1, list2):\n",
    "    intersection = deque()\n",
    "    for i in list1:\n",
    "        if any(i == x for x in list2):\n",
    "            intersection.append(i)\n",
    "    return list(intersection)\n",
    "\n",
    "print('Without asserts and with deque')\n",
    "%timeit intersection(list1, list2)\n",
    "\n",
    "# Their solution, using sets\n",
    "def intersection(list1, list2):\n",
    "    set1 = set(list1)\n",
    "    set2 = set(list2)\n",
    "    set1 &= set2\n",
    "    return list(set1)\n",
    "\n",
    "print('Set solution without asserts')\n",
    "%timeit intersection(list1, list2)\n"
   ]
  },
  {
   "cell_type": "markdown",
   "metadata": {},
   "source": [
    "## Question\n",
    "\n",
    "Please write a program using generator to print the even numbers between 0 and n in comma separated form while \n",
    "n is input by console.\n"
   ]
  },
  {
   "cell_type": "code",
   "execution_count": 45,
   "metadata": {
    "ExecuteTime": {
     "end_time": "2018-02-15T18:25:25.470158Z",
     "start_time": "2018-02-15T18:25:25.463258Z"
    }
   },
   "outputs": [
    {
     "name": "stdout",
     "output_type": "stream",
     "text": [
      "0,2,4,6,8\n"
     ]
    }
   ],
   "source": [
    "def even_numbers(n):\n",
    "    for even in range(0, n, 2):\n",
    "        yield even\n",
    "    \n",
    "print(','.join(list(str(x) for x in even_numbers(10))))"
   ]
  },
  {
   "cell_type": "markdown",
   "metadata": {},
   "source": [
    "## Question\n",
    "\n",
    "Write a program to solve a classic ancient Chinese puzzle: \n",
    "We count 35 heads and 94 legs among the chickens and rabbits in a farm. How many rabbits and how many chickens do we have?"
   ]
  },
  {
   "cell_type": "code",
   "execution_count": 48,
   "metadata": {
    "ExecuteTime": {
     "end_time": "2018-02-15T18:38:58.354829Z",
     "start_time": "2018-02-15T18:38:38.550033Z"
    }
   },
   "outputs": [
    {
     "name": "stdout",
     "output_type": "stream",
     "text": [
      "2.21 µs ± 21.3 ns per loop (mean ± std. dev. of 7 runs, 1000000 loops each)\n",
      "There are 12 rabbits and 23 chickens\n",
      "2.48 µs ± 146 ns per loop (mean ± std. dev. of 7 runs, 100000 loops each)\n"
     ]
    }
   ],
   "source": [
    "def rabbits_and_chickens(heads, legs):\n",
    "    assert isinstance(heads, int), 'Number of heads must be integer'\n",
    "    assert isinstance(legs, int), 'Number of legs must be integer'\n",
    "    assert legs > heads, 'Must be more heads than legs'    \n",
    "    for num_rabbits in range(0, heads + 1):\n",
    "        num_chickens = heads - num_rabbits\n",
    "        left_over_legs = (legs - 4*num_rabbits)\n",
    "        if (left_over_legs // 2 == num_chickens and left_over_legs % 2 == 0):\n",
    "            return num_rabbits, num_chickens\n",
    "    raise Exception('Numbers dont add up!')\n",
    "\n",
    "%timeit num_rabbits, num_chickens = rabbits_and_chickens(35, 94)\n",
    "print('There are %s rabbits and %s chickens' % (num_rabbits, num_chickens))\n",
    "\n",
    "# Their solution\n",
    "def solve(numheads,numlegs):\n",
    "    ns='No solutions!'\n",
    "    for i in range(numheads+1):\n",
    "        j=numheads-i\n",
    "        if 2*i+4*j==numlegs:\n",
    "            return i,j\n",
    "    return ns,ns\n",
    "\n",
    "%timeit num_rabbits, num_chickens = solve(35, 94)"
   ]
  }
 ],
 "metadata": {
  "kernelspec": {
   "display_name": "Python [conda env:vectorize]",
   "language": "python",
   "name": "conda-env-vectorize-py"
  },
  "language_info": {
   "codemirror_mode": {
    "name": "ipython",
    "version": 3
   },
   "file_extension": ".py",
   "mimetype": "text/x-python",
   "name": "python",
   "nbconvert_exporter": "python",
   "pygments_lexer": "ipython3",
   "version": "3.5.4"
  }
 },
 "nbformat": 4,
 "nbformat_minor": 2
}
