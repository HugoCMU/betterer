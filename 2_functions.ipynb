{
 "cells": [
  {
   "cell_type": "markdown",
   "metadata": {},
   "source": [
    "## Functions\n",
    "Some best practices regarding functions in Python. This follows from examples in:\n",
    "\n",
    "[1] Effective Python: 59 Specific Ways to Write Better Python"
   ]
  },
  {
   "cell_type": "markdown",
   "metadata": {},
   "source": [
    "### 14\n",
    "How to denote failure within a function."
   ]
  },
  {
   "cell_type": "code",
   "execution_count": 4,
   "metadata": {
    "ExecuteTime": {
     "end_time": "2018-01-26T03:24:16.001969Z",
     "start_time": "2018-01-26T03:24:15.978761Z"
    }
   },
   "outputs": [
    {
     "name": "stdout",
     "output_type": "stream",
     "text": [
      "Result is 2.5\n"
     ]
    }
   ],
   "source": [
    "# Raise a specific error within the function\n",
    "def divide(a, b):\n",
    "    try:\n",
    "        return a/b\n",
    "    except ZeroDivisionError as e:\n",
    "        raise ValueError('Invalid Inputs') from e\n",
    "\n",
    "x, y = 5, 2\n",
    "try:\n",
    "    result = divide(x, y)\n",
    "except ValueError:\n",
    "    print('Invalid inputs')\n",
    "else:\n",
    "    print('Result is %.1f' % result)"
   ]
  },
  {
   "cell_type": "markdown",
   "metadata": {},
   "source": [
    "### 15\n",
    "How closures interact with Variable scope"
   ]
  },
  {
   "cell_type": "code",
   "execution_count": 5,
   "metadata": {
    "ExecuteTime": {
     "end_time": "2018-01-26T03:54:02.468084Z",
     "start_time": "2018-01-26T03:54:02.453825Z"
    }
   },
   "outputs": [],
   "source": [
    "# Use non-local keyword to denote scope within internal functions\n",
    "def sort_func(numbers, group):\n",
    "    found = False\n",
    "    def helper(x):\n",
    "        nonlocal found\n",
    "        if x in group:\n",
    "            found = True\n",
    "            return (0, x)\n",
    "        return (1, x)\n",
    "    numbers.sort(key=helper)\n",
    "    return found\n",
    "\n",
    "# In the example above though, use a small helper class\n",
    "class Sorter(object):\n",
    "    def __init__(self, group):\n",
    "        self.group = []\n",
    "        self.found = False\n",
    "    def __call__(self, x):\n",
    "        if x in self.group:\n",
    "            self.found = True\n",
    "            return (0, x)\n",
    "        return (1, x)"
   ]
  },
  {
   "cell_type": "markdown",
   "metadata": {},
   "source": [
    "### 16\n",
    "Use generators instead of returning lists"
   ]
  },
  {
   "cell_type": "code",
   "execution_count": 9,
   "metadata": {
    "ExecuteTime": {
     "end_time": "2018-01-26T07:13:42.290231Z",
     "start_time": "2018-01-26T07:13:42.280533Z"
    }
   },
   "outputs": [
    {
     "name": "stdout",
     "output_type": "stream",
     "text": [
      "[0, 5, 8, 11]\n",
      "[]\n"
     ]
    }
   ],
   "source": [
    "# Get the index of words in a string\n",
    "def word_index_iter(text):\n",
    "    if text:\n",
    "        yield 0\n",
    "    for index, letter in enumerate(text):\n",
    "        if letter == ' ':\n",
    "            yield index + 1\n",
    "            \n",
    "# If you then want the list of these items you can simply\n",
    "text = \"This is an example\"\n",
    "tmp = word_index_iter(text)\n",
    "result = list(tmp)\n",
    "# But remember that iterators only work once\n",
    "result2 = list(tmp)\n",
    "print(result)\n",
    "print(result2)"
   ]
  },
  {
   "cell_type": "markdown",
   "metadata": {},
   "source": [
    "### 17\n",
    "Be defensive when iterating over arguments"
   ]
  },
  {
   "cell_type": "code",
   "execution_count": 12,
   "metadata": {
    "ExecuteTime": {
     "end_time": "2018-01-26T07:48:05.160069Z",
     "start_time": "2018-01-26T07:48:05.142645Z"
    }
   },
   "outputs": [
    {
     "name": "stdout",
     "output_type": "stream",
     "text": [
      "[11.538461538461538, 26.923076923076923, 61.53846153846154]\n"
     ]
    }
   ],
   "source": [
    "# Use iterable container class, leverage __iter__ and __next__\n",
    "class ReadVisits(object):\n",
    "    def __init__(self, visits):\n",
    "        self.visits = visits\n",
    "    def __iter__(self):\n",
    "        for item in self.visits:\n",
    "            yield item\n",
    "\n",
    "# Check for iterators within functions\n",
    "def normalize(numbers):\n",
    "    total = sum(numbers) # Calls __iter__ and makes a new iter object\n",
    "    result = []\n",
    "    for value in numbers: # Calls __iter__ and makes a new iter object\n",
    "        percent = 100 * value / total\n",
    "        result.append(percent)\n",
    "    return result\n",
    "\n",
    "# You can use this class object to return a generator\n",
    "visits = ReadVisits([15, 35, 80])\n",
    "percentages = normalize(visits)\n",
    "print(percentages)"
   ]
  },
  {
   "cell_type": "markdown",
   "metadata": {},
   "source": [
    "### 20\n",
    "Use None and docstrings to specify default arguments"
   ]
  },
  {
   "cell_type": "code",
   "execution_count": 13,
   "metadata": {
    "ExecuteTime": {
     "end_time": "2018-01-26T08:35:50.280790Z",
     "start_time": "2018-01-26T08:35:50.257500Z"
    }
   },
   "outputs": [],
   "source": [
    "# The keyword argument for when is not initialized every function call, so pull datetime into function\n",
    "def lof_message(message, when=None):\n",
    "    when = datetime.now() if when is None else when\n",
    "    print('%s at time %s' % (message, when))\n",
    "    \n",
    "# Mutable objects in keyword arguments is a nono (since then can be changed during execution)\n",
    "def decode(data, default=None):\n",
    "    if default is None:\n",
    "        default = {}\n",
    "    try:\n",
    "        return json.loads(data)\n",
    "    except ValueError:\n",
    "        return default"
   ]
  },
  {
   "cell_type": "code",
   "execution_count": null,
   "metadata": {},
   "outputs": [],
   "source": []
  }
 ],
 "metadata": {
  "kernelspec": {
   "display_name": "Python 3",
   "language": "python",
   "name": "python3"
  },
  "language_info": {
   "codemirror_mode": {
    "name": "ipython",
    "version": 3
   },
   "file_extension": ".py",
   "mimetype": "text/x-python",
   "name": "python",
   "nbconvert_exporter": "python",
   "pygments_lexer": "ipython3",
   "version": "3.6.3"
  }
 },
 "nbformat": 4,
 "nbformat_minor": 2
}
