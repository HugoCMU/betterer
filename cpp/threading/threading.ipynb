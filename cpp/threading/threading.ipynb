{
 "cells": [
  {
   "cell_type": "markdown",
   "metadata": {},
   "source": [
    "### C++ Threading\n",
    "\n",
    "Source:\n",
    "[1] https://solarianprogrammer.com/2011/12/16/cpp-11-thread-tutorial/"
   ]
  },
  {
   "cell_type": "code",
   "execution_count": null,
   "metadata": {},
   "outputs": [],
   "source": [
    "#include <iostream>\n",
    "#include <thread>\n",
    "\n",
    "static const int num_threads = 10;"
   ]
  },
  {
   "cell_type": "code",
   "execution_count": null,
   "metadata": {},
   "outputs": [],
   "source": [
    "// Funciton to be called from the thread\n",
    "void call_from_thread(int tid) {\n",
    "    std::cout << \"Inside threaded func \" << tid << std::endl;\n",
    "}"
   ]
  },
  {
   "cell_type": "code",
   "execution_count": null,
   "metadata": {},
   "outputs": [],
   "source": [
    "// Array of number of threads\n",
    "std::thread t[num_threads];\n",
    "\n",
    "// Launch the threads\n",
    "for(int i = 0; i < num_threads; ++i) {\n",
    "    t[i] = std::thread(call_from_thread, i);\n",
    "}\n",
    "\n",
    "std::cout << \"Launched from main\" << std::endl;\n",
    "\n",
    "\n",
    "// Join threads with main thread\n",
    "for(int i = 0; i < num_threads; ++i) {\n",
    "    t[i].join();\n",
    "}"
   ]
  }
 ],
 "metadata": {
  "kernelspec": {
   "display_name": "xeus C++11",
   "language": "",
   "name": "xeus-cling-cpp11"
  },
  "language_info": {
   "codemirror_mode": "text/x-c++src",
   "file_extension": ".cpp",
   "mimetype": "text/x-c++src",
   "name": "c++",
   "version": ""
  }
 },
 "nbformat": 4,
 "nbformat_minor": 2
}
