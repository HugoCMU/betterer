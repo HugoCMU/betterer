{
 "cells": [
  {
   "cell_type": "code",
   "execution_count": 4,
   "metadata": {
    "ExecuteTime": {
     "end_time": "2018-02-01T14:48:29Z\u0000",
     "start_time": "2018-02-01T14:48:29Z\u0000"
    }
   },
   "outputs": [
    {
     "name": "stderr",
     "output_type": "stream",
     "text": [
      "\u001b[1minput_line_10:2:10: \u001b[0m\u001b[0;1;31mfatal error: \u001b[0m\u001b[1m'opencv2/imgproc/improc.hpp' file not found\u001b[0m\n",
      "#include <opencv2/imgproc/improc.hpp>\n",
      "\u001b[0;1;32m         ^~~~~~~~~~~~~~~~~~~~~~~~~~~~\n",
      "\u001b[0m"
     ]
    }
   ],
   "source": [
    "#include <stdio.h>\n",
    "#include <opencv2/imgproc/improc.hpp>\n"
   ]
  },
  {
   "cell_type": "code",
   "execution_count": null,
   "metadata": {},
   "outputs": [],
   "source": []
  }
 ],
 "metadata": {
  "kernelspec": {
   "display_name": "xeus C++11",
   "language": "",
   "name": "xeus-cling-cpp11"
  },
  "language_info": {
   "codemirror_mode": "text/x-c++src",
   "file_extension": ".cpp",
   "mimetype": "text/x-c++src",
   "name": "c++",
   "version": ""
  }
 },
 "nbformat": 4,
 "nbformat_minor": 2
}
