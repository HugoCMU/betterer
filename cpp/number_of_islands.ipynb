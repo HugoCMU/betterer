{
 "cells": [
  {
   "cell_type": "markdown",
   "metadata": {},
   "source": [
    "### Number of Islands\n",
    "\n",
    "The aim is to find the number of islands in a given binary matrix (just zeros and ones).\n",
    "\n",
    "Source:\n",
    "\n",
    "[1] https://www.geeksforgeeks.org/find-number-of-islands/"
   ]
  },
  {
   "cell_type": "code",
   "execution_count": null,
   "metadata": {},
   "outputs": [],
   "source": [
    "// Example input and output\n",
    "Input : mat[][] = {{1, 1, 0, 0, 0},\n",
    "                   {0, 1, 0, 0, 1},\n",
    "                   {1, 0, 0, 1, 1},\n",
    "                   {0, 0, 0, 0, 0},\n",
    "                   {1, 0, 1, 0, 1}} \n",
    "Output : 5"
   ]
  },
  {
   "cell_type": "markdown",
   "metadata": {},
   "source": [
    "The example above tells us this uses 8-point connectivity.\n",
    "\n",
    "The first pseudo algorithm I can think of consists of:\n",
    "    1. Iterate through input matrix\n",
    "    2. For every 1 you see, check its neighbors (based on 8 point connectivity)\n",
    "    3. Make that 1 and all its connected neighbors 0\n",
    "    4. Increment the number of islands by 1\n",
    "    5. Continue iterating through input matrix\n",
    " \n",
    "For this we are going to need a get_neighbors() function. Let start fleshing this out top-down"
   ]
  },
  {
   "cell_type": "code",
   "execution_count": null,
   "metadata": {},
   "outputs": [],
   "source": [
    "// Program to count islands in boolean 2D matrix\n",
    "#include <stdio.h>\n",
    "#include <iostream>\n",
    "#include <string.h>\n",
    "#include <stdbool.h>\n",
    "\n",
    "#define NUM_ROW 5\n",
    "#define NUM_COL 5"
   ]
  },
  {
   "cell_type": "code",
   "execution_count": null,
   "metadata": {},
   "outputs": [],
   "source": [
    "// Removes an island given an index within it\n",
    "static void removeIsland(int (&arr)[NUM_ROW][NUM_COL], int i, int j) {\n",
    "    // Remove the point from the island\n",
    "    arr[i][j] = 2;\n",
    "    // Get neighbors according to eight point connectivity\n",
    "    int n_i_min = std::max(i-1, 0);\n",
    "    int n_i_max = std::min(i+1, NUM_ROW-1);\n",
    "    int n_j_min = std::max(j-1, 0);\n",
    "    int n_j_max = std::min(j+1, NUM_COL-1);\n",
    "    // Loop through the neighboors, recursively remove all parts of island\n",
    "    for(int a = n_i_min; a < n_i_max + 1; ++a) {\n",
    "        for(int b = n_j_min; b < n_j_max + 1; ++b) {\n",
    "            if(arr[a][b] == 1) {\n",
    "                removeIsland(arr, a, b);\n",
    "            }\n",
    "        }\n",
    "    }\n",
    "}"
   ]
  },
  {
   "cell_type": "code",
   "execution_count": null,
   "metadata": {},
   "outputs": [],
   "source": [
    "static int numIslands(int (&arr)[NUM_ROW][NUM_COL]) {\n",
    "    // Counter for number of islands\n",
    "    int island_counter = 0;\n",
    "    // Iterate through each row in the array\n",
    "    for(int i=0; i<NUM_ROW; ++i) {\n",
    "        //Iterate through each column in the row\n",
    "        for(int j=0; j<NUM_COL; ++j) {\n",
    "            if(arr[i][j] == 1) {\n",
    "                removeIsland(arr, i, j);\n",
    "                island_counter++;\n",
    "            }\n",
    "        }\n",
    "    }\n",
    "    return island_counter;\n",
    "}"
   ]
  },
  {
   "cell_type": "code",
   "execution_count": null,
   "metadata": {},
   "outputs": [],
   "source": [
    "int arr[NUM_ROW][NUM_COL] = {{1, 1, 0, 0, 0},\n",
    "                           {0, 1, 0, 0, 1},\n",
    "                           {1, 0, 0, 1, 1},\n",
    "                           {0, 0, 0, 0, 0},\n",
    "                           {1, 0, 1, 0, 1}};\n",
    "\n",
    "std::cout << \"Number of islands: \" << numIslands(arr) << \"\\n\";"
   ]
  }
 ],
 "metadata": {
  "kernelspec": {
   "display_name": "xeus C++14",
   "language": "",
   "name": "xeus-cling-cpp14"
  },
  "language_info": {
   "codemirror_mode": "text/x-c++src",
   "file_extension": ".cpp",
   "mimetype": "text/x-c++src",
   "name": "c++",
   "version": ""
  }
 },
 "nbformat": 4,
 "nbformat_minor": 2
}
