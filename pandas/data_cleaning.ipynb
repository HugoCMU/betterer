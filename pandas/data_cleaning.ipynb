{
 "cells": [
  {
   "cell_type": "markdown",
   "metadata": {},
   "source": [
    "## Data Cleaning\n",
    "\n",
    "Tutorial on how to clean data with numpy and pandas\n",
    "\n",
    "Sources:\n",
    "- [1] https://realpython.com/python-data-cleaning-numpy-pandas/"
   ]
  },
  {
   "cell_type": "code",
   "execution_count": null,
   "metadata": {},
   "outputs": [],
   "source": [
    "import pandas as pd\n",
    "import numpy as np"
   ]
  },
  {
   "cell_type": "code",
   "execution_count": null,
   "metadata": {},
   "outputs": [],
   "source": [
    "# Load data from csv file\n",
    "df = pd.read_csv('BL-Flickr-Images-Book.csv')\n",
    "df.head() # First 5 entries of the dataframe"
   ]
  },
  {
   "cell_type": "code",
   "execution_count": null,
   "metadata": {},
   "outputs": [],
   "source": [
    "# We don't want all of these columns, so lets drop some of them\n",
    "to_drop = ['Edition Statement','Corporate Author','Corporate Contributors','Former owner','Engraver','Contributors','Issuance type','Shelfmarks']\n",
    "\n",
    "# inplace means modifying the object directly, axis denotes where the values to be dropped are\n",
    "df.drop(to_drop, inplace=True, axis=1)\n",
    "\n",
    "# Alternitavely we could have done\n",
    "# df.drop(columns=to_drop, inplace=True)\n",
    "# Or even read from the csv with specific columns\n",
    "# df = pd.read_csv('FILENAME', usecols=to_drop)\n",
    "\n",
    "df.head()"
   ]
  },
  {
   "cell_type": "code",
   "execution_count": null,
   "metadata": {},
   "outputs": [],
   "source": [
    "# The index of a dataframe should be a uniquely valued identifying field\n",
    "df['Identifier'].is_unique"
   ]
  },
  {
   "cell_type": "code",
   "execution_count": null,
   "metadata": {},
   "outputs": [],
   "source": [
    "# Lets use this column as our index\n",
    "df = df.set_index('Identifier') # Note we could have used the inplace here to modify original object\n",
    "df.head()"
   ]
  },
  {
   "cell_type": "code",
   "execution_count": null,
   "metadata": {},
   "outputs": [],
   "source": [
    "# We can now use this index to slice the dataframe\n",
    "df.loc[206]"
   ]
  },
  {
   "cell_type": "code",
   "execution_count": null,
   "metadata": {},
   "outputs": [],
   "source": [
    "# How many different data types are there in this dataframe\n",
    "df.get_dtype_counts()"
   ]
  },
  {
   "cell_type": "code",
   "execution_count": null,
   "metadata": {},
   "outputs": [],
   "source": [
    "# We can see that the data column is noisy\n",
    "df.loc[1905:, 'Date of Publication'].head(10)"
   ]
  },
  {
   "cell_type": "code",
   "execution_count": null,
   "metadata": {},
   "outputs": [],
   "source": [
    "# Let's clean it up with a regex\n",
    "regex = r'^(\\d{4})' # This finds any 4 digits in the beginning of a string\n",
    "\n",
    "extr = df['Date of Publication'].str.extract(regex, expand=False)\n",
    "extr.head()"
   ]
  },
  {
   "cell_type": "code",
   "execution_count": null,
   "metadata": {},
   "outputs": [],
   "source": [
    "# This has the object data type though\n",
    "extr.get_dtype_counts()"
   ]
  },
  {
   "cell_type": "code",
   "execution_count": null,
   "metadata": {},
   "outputs": [],
   "source": [
    "# Lets make it numeric\n",
    "df['Date of Publication'] = pd.to_numeric(extr)\n",
    "df['Date of Publication'].dtype"
   ]
  },
  {
   "cell_type": "code",
   "execution_count": null,
   "metadata": {},
   "outputs": [],
   "source": [
    "# How many of the values are missing though?\n",
    "df['Date of Publication'].isnull().sum() / len(df)"
   ]
  },
  {
   "cell_type": "code",
   "execution_count": null,
   "metadata": {},
   "outputs": [],
   "source": [
    "# Lets look at a different column we need to clean up\n",
    "df['Place of Publication'].head(10)"
   ]
  },
  {
   "cell_type": "code",
   "execution_count": null,
   "metadata": {},
   "outputs": [],
   "source": [
    "# Its difficult to write a regex to clean this up, so lets instead\n",
    "# use the np.where() function\n",
    "pub = df['Place of Publication']\n",
    "\n",
    " # boolean mask for containing the strings London and Oxford\n",
    "london = pub.str.contains('London')\n",
    "oxford = pub.str.contains('Oxford')\n",
    "\n",
    "# Replace using nested np.where\n",
    "df['Place of Publication'] = np.where(london, 'London',\n",
    "                                     np.where(oxford, 'Oxford',\n",
    "                                             pub.str.replace('-', ' ')))\n",
    "\n",
    "df['Place of Publication'].head()"
   ]
  },
  {
   "cell_type": "code",
   "execution_count": null,
   "metadata": {},
   "outputs": [],
   "source": [
    "# If we now look at the top entries they look mcuh cleaner\n",
    "df.head()"
   ]
  },
  {
   "cell_type": "markdown",
   "metadata": {},
   "source": [
    "# applymap()\n",
    "\n",
    "It is often easier to apply a customized function to each cell or element directly with a function such as applymap()"
   ]
  },
  {
   "cell_type": "code",
   "execution_count": null,
   "metadata": {},
   "outputs": [],
   "source": [
    "university_towns = []\n",
    "with open('university_towns.txt') as file:\n",
    "    for line in file:\n",
    "        if '[edit]' in line:\n",
    "            state = line # Remember this state\n",
    "        else:\n",
    "            university_towns.append((state, line))\n",
    "\n",
    "university_towns[:5]"
   ]
  },
  {
   "cell_type": "code",
   "execution_count": null,
   "metadata": {},
   "outputs": [],
   "source": [
    "# Feed this list of tuples into a dataframe\n",
    "towns_df = pd.DataFrame(university_towns,\n",
    "                       columns=['State', 'RegionName'])\n",
    "\n",
    "towns_df.head()"
   ]
  },
  {
   "cell_type": "code",
   "execution_count": null,
   "metadata": {},
   "outputs": [],
   "source": [
    "# Define a function to apply to each cell\n",
    "def get_citystate(item):\n",
    "    if ' (' in item:\n",
    "        return item[:item.find(' (')]\n",
    "    if '[' in item:\n",
    "        return item[:item.find('[')]\n",
    "    else:\n",
    "        return item\n",
    "    \n",
    "towns_df = towns_df.applymap(get_citystate)\n",
    "towns_df.head()"
   ]
  },
  {
   "cell_type": "code",
   "execution_count": null,
   "metadata": {},
   "outputs": [],
   "source": []
  }
 ],
 "metadata": {
  "kernelspec": {
   "display_name": "Python [conda env:vectorize]",
   "language": "python",
   "name": "conda-env-vectorize-py"
  },
  "language_info": {
   "codemirror_mode": {
    "name": "ipython",
    "version": 3
   },
   "file_extension": ".py",
   "mimetype": "text/x-python",
   "name": "python",
   "nbconvert_exporter": "python",
   "pygments_lexer": "ipython3",
   "version": "3.5.4"
  }
 },
 "nbformat": 4,
 "nbformat_minor": 2
}
