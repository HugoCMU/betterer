{
 "cells": [
  {
   "cell_type": "markdown",
   "metadata": {},
   "source": [
    "## Chapter 3: Linear and Logistic Regression\n",
    "\n",
    "This follows the exercises in the book *Tensorflow for Deep Learning*.\n",
    "\n",
    "Sources:\n",
    "\n",
    "- [1] *Tensorflow for Deep Learning*"
   ]
  },
  {
   "cell_type": "code",
   "execution_count": null,
   "metadata": {},
   "outputs": [],
   "source": [
    "import numpy as np\n",
    "import tensorflow as tf"
   ]
  },
  {
   "cell_type": "code",
   "execution_count": null,
   "metadata": {},
   "outputs": [],
   "source": [
    "# Generate synthetic  regression data\n",
    "# Fake linear model y = wx + b + N\n",
    "N = 100\n",
    "w_true = 5\n",
    "b_true = 2\n",
    "noise_scale = 0.1\n",
    "x_np = np.random.rand(N, 1)\n",
    "noise = np.random.normal(scale=noise_scale, size=(N,1))\n",
    "y_np = np.reshape(w_true*x_np + b_true + noise, (-1))"
   ]
  },
  {
   "cell_type": "code",
   "execution_count": null,
   "metadata": {},
   "outputs": [],
   "source": [
    "N = 100\n",
    "c = N/2"
   ]
  },
  {
   "cell_type": "code",
   "execution_count": null,
   "metadata": {},
   "outputs": [],
   "source": [
    "# Generate synthetic classification data\n",
    "# Fake classification of \"ones\" (-1, -1) + N and \"zeros\" (1, 1) + N\n",
    "N = 100\n",
    "half = (int)(N/2)\n",
    "# Zeros are a gausian centered at (-1, -1)\n",
    "x_zeros = np.random.multivariate_normal(\n",
    "    mean=np.array((-1, -1)), cov=.1*np.eye(2), size=(half,))\n",
    "y_zeros = np.zeros((half,))\n",
    "# Ones are a gausian centered at (1, 1)\n",
    "x_ones = np.random.multivariate_normal(\n",
    "    mean=np.array((1, 1)), cov=.1*np.eye(2), size=(half,))\n",
    "y_ones = np.ones((half,))\n",
    "# Concatenate data together\n",
    "x_np = np.vstack([x_zeros, x_ones])\n",
    "y_np = np.concatenate([y_zeros, y_ones])"
   ]
  },
  {
   "cell_type": "code",
   "execution_count": null,
   "metadata": {},
   "outputs": [],
   "source": [
    "# Tensorflow placeholders are used for input data into a tf graph\n",
    "tf.placeholder(tf.float32, shape=(2,2))"
   ]
  },
  {
   "cell_type": "code",
   "execution_count": null,
   "metadata": {},
   "outputs": [],
   "source": [
    "# Use feed dictionary to feed values into a graph in a session\n",
    "a = tf.placeholder(tf.float32, shape=(1,))\n",
    "b = tf.placeholder(tf.float32, shape=(1,))\n",
    "c = a + b\n",
    "with tf.Session() as sess:\n",
    "    c_eval = sess.run(c, {a: [1.], b: [2.]})\n",
    "    print(c_eval)"
   ]
  },
  {
   "cell_type": "code",
   "execution_count": null,
   "metadata": {},
   "outputs": [],
   "source": [
    "# Use name scopes to help with Tensorboard Viz, debug, etc\n",
    "N = 5\n",
    "with tf.name_scope(\"placeholders\"):\n",
    "    x = tf.placeholder(tf.float32, (N, 1))\n",
    "    y = tf.placeholder(tf.float32, (N,))"
   ]
  },
  {
   "cell_type": "code",
   "execution_count": null,
   "metadata": {},
   "outputs": [],
   "source": [
    "# Put your train op inside its own name scope\n",
    "learning_rate = 0.001\n",
    "with tf.name_scope(\"optim\"):\n",
    "    train_op = tf.train.AdamOptimizer(learning_rate).minimize(loss)"
   ]
  },
  {
   "cell_type": "code",
   "execution_count": null,
   "metadata": {},
   "outputs": [],
   "source": [
    "# Use tf.gradients to get the gradients directly\n",
    "# useful for debugging\n",
    "W = tf.Variable((3,))\n",
    "l = tf.reduce_sum(W)\n",
    "gradW = tf.gradients(l, W)\n",
    "gradW"
   ]
  },
  {
   "cell_type": "code",
   "execution_count": null,
   "metadata": {},
   "outputs": [],
   "source": [
    "# Use summary writers to log things\n",
    "with tf.name_scope(\"summaries\"):\n",
    "    tf.summary.scalar(\"loss\", l)\n",
    "    merged = tf.summary.merge_all()\n",
    "    \n",
    "train_writer = tf.summary.FileWriter('/tmp/lr-train', tf.get_default_graph())"
   ]
  },
  {
   "cell_type": "code",
   "execution_count": null,
   "metadata": {},
   "outputs": [],
   "source": [
    "n_steps = 1000\n",
    "with tf.Session() as sess:\n",
    "    sess.run(tf.global_variables_initializer())\n",
    "    \n",
    "    # Train the model\n",
    "    for i in range(n_steps):\n",
    "        feed_dict = {x: x_np, y: y_np}\n",
    "        \n",
    "        _, summary, loss = sess.run([train_op, merged, l], feed_dict=feed_dict)\n",
    "        print(\"step %d, loss: %f\" % (i, loss))\n",
    "        train_writer.add_summary(summary, i)"
   ]
  },
  {
   "cell_type": "markdown",
   "metadata": {},
   "source": [
    "### Linear Regresssion"
   ]
  },
  {
   "cell_type": "code",
   "execution_count": null,
   "metadata": {},
   "outputs": [],
   "source": [
    "# Create the graph\n",
    "with tf.name_scope(\"placeholders\"):\n",
    "    x = tf.placeholder(tf.float32, (N, 1))\n",
    "    y = tf.placeholder(tf.float32, (N,))\n",
    "with tf.name_scope(\"weights\"):\n",
    "    W = tf.Variable(tf.random_normal((1,1)))\n",
    "    b = tf.Variable(tf.random_normal((1,)))\n",
    "with tf.name_scope(\"prediction\"):\n",
    "    y_pred = tf.matmul(x, W) + b\n",
    "with tf.name_scope(\"loss\"):\n",
    "    loss = tf.reduce_sum((y - y_pred) ** 2)\n",
    "with tf.name_scope(\"optim\"):\n",
    "    train_op = tf.train.AdamOptimizer(0.001).minimize(loss)\n",
    "with tf.name_scope(\"summaries\"):\n",
    "    tf.summary.scalar(\"loss\", loss)\n",
    "    merged = tf.summary.merge_all()\n",
    "\n",
    "train_writer = tf.summary.FileWriter('/tmp/lr-train', tf.get_default_graph())\n",
    "\n",
    "# Create the session, feed the data in, and train the model\n",
    "n_steps = 1000\n",
    "with tf.Session() as sess:\n",
    "    sess.run(tf.global_variables_initializer())\n",
    "    # Train model\n",
    "    for i in range(n_steps):\n",
    "        feed_dict = {x: x_np, y: y_np}\n",
    "        _, summary, l = sess.run([train_op, merged, loss],\n",
    "                                   feed_dict=feed_dict)\n",
    "        print(\"step %d, loss: %f\" % (i, l))\n",
    "        train_writer.add_summary(summary, i)"
   ]
  },
  {
   "cell_type": "code",
   "execution_count": null,
   "metadata": {},
   "outputs": [],
   "source": []
  }
 ],
 "metadata": {
  "kernelspec": {
   "display_name": "Python [conda env:vectorize]",
   "language": "python",
   "name": "conda-env-vectorize-py"
  },
  "language_info": {
   "codemirror_mode": {
    "name": "ipython",
    "version": 3
   },
   "file_extension": ".py",
   "mimetype": "text/x-python",
   "name": "python",
   "nbconvert_exporter": "python",
   "pygments_lexer": "ipython3",
   "version": "3.5.4"
  }
 },
 "nbformat": 4,
 "nbformat_minor": 2
}
