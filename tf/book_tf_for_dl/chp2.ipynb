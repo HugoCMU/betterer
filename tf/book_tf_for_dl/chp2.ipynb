{
 "cells": [
  {
   "cell_type": "markdown",
   "metadata": {},
   "source": [
    "## Chapter 2: Basic TensorFlow\n",
    "\n",
    "This follows the exercises in the book *Tensorflow for Deep Learning*.\n",
    "\n",
    "Sources:\n",
    "\n",
    "- [1] *Tensorflow for Deep Learning*"
   ]
  },
  {
   "cell_type": "code",
   "execution_count": null,
   "metadata": {},
   "outputs": [],
   "source": [
    "import tensorflow as tf\n",
    "tf.InteractiveSession()"
   ]
  },
  {
   "cell_type": "code",
   "execution_count": null,
   "metadata": {},
   "outputs": [],
   "source": [
    "a = tf.zeros(2)\n",
    "a.eval() # Must evaluate tensor to get value rather than reference"
   ]
  },
  {
   "cell_type": "code",
   "execution_count": null,
   "metadata": {},
   "outputs": [],
   "source": [
    "a = tf.zeros((2, 3)) # Use tuple to define shape\n",
    "a.eval()"
   ]
  },
  {
   "cell_type": "code",
   "execution_count": null,
   "metadata": {},
   "outputs": [],
   "source": [
    "# Use fill function to fill tensors with arbitrary numbers\n",
    "b = tf.fill((2, 3), value=5.)\n",
    "b.eval()"
   ]
  },
  {
   "cell_type": "code",
   "execution_count": null,
   "metadata": {},
   "outputs": [],
   "source": [
    "# Use constant function to define tensors whose value should not change\n",
    "a = tf.constant(3)\n",
    "a.eval()"
   ]
  },
  {
   "cell_type": "code",
   "execution_count": null,
   "metadata": {},
   "outputs": [],
   "source": [
    "# Initialize a random tensor by sampling from normal distribution\n",
    "# specifying the mean and the standard deviation\n",
    "a = tf.random_normal((2, 2), mean=0, stddev=1)\n",
    "a.eval()"
   ]
  },
  {
   "cell_type": "code",
   "execution_count": null,
   "metadata": {},
   "outputs": [],
   "source": [
    "# Sampling from a normal distribution will result in some potentially\n",
    "# huge or small numbers. Lets use a truncated normal instead.\n",
    "a = tf.truncated_normal((2,2), mean=0, stddev=1)\n",
    "b = tf.random_uniform((2, 2), minval=-2, maxval=2)\n",
    "b.eval()"
   ]
  },
  {
   "cell_type": "code",
   "execution_count": null,
   "metadata": {},
   "outputs": [],
   "source": [
    "c = tf.ones((2,2))\n",
    "d = tf.ones((2,2))\n",
    "\n",
    "# The python multiply and add operations are overloaded to work\n",
    "# for tf tensors\n",
    "e = c + d\n",
    "e.eval()"
   ]
  },
  {
   "cell_type": "code",
   "execution_count": null,
   "metadata": {},
   "outputs": [],
   "source": [
    "f = 2 * e\n",
    "f.eval()"
   ]
  },
  {
   "cell_type": "code",
   "execution_count": null,
   "metadata": {},
   "outputs": [],
   "source": [
    "# Note that the overloaded multiplication is element-wise not\n",
    "# matrix multiplication\n",
    "g = f * f\n",
    "g.eval()"
   ]
  },
  {
   "cell_type": "code",
   "execution_count": null,
   "metadata": {},
   "outputs": [],
   "source": [
    "# Construct quick identity matrices with the eye function\n",
    "a = tf.eye(4)\n",
    "a.eval()"
   ]
  },
  {
   "cell_type": "code",
   "execution_count": null,
   "metadata": {},
   "outputs": [],
   "source": [
    "# Lets create a diagonal matrix\n",
    "r = tf.range(1, 5, 1)\n",
    "r.eval()\n",
    "\n",
    "d = tf.diag(r)\n",
    "d.eval()"
   ]
  },
  {
   "cell_type": "code",
   "execution_count": null,
   "metadata": {},
   "outputs": [],
   "source": [
    "# Tf also has built ins for matrix transpose\n",
    "a = tf.ones((2, 3))\n",
    "b = tf.matrix_transpose(a)\n",
    "b.eval()"
   ]
  },
  {
   "cell_type": "code",
   "execution_count": null,
   "metadata": {},
   "outputs": [],
   "source": [
    "# Matrix multiplication with matmul\n",
    "c = tf.matmul(a, b)\n",
    "c.eval()"
   ]
  },
  {
   "cell_type": "code",
   "execution_count": null,
   "metadata": {},
   "outputs": [],
   "source": [
    "# Create a tensor and then change its datatype\n",
    "a = tf.ones((2, 3), dtype=tf.float32)\n",
    "a.eval()\n",
    "b = tf.to_int32(a)\n",
    "b.eval()"
   ]
  },
  {
   "cell_type": "code",
   "execution_count": null,
   "metadata": {},
   "outputs": [],
   "source": [
    "# Manipulating tensor shapes with reshape\n",
    "r = tf.range(1, 5, 1)\n",
    "a = tf.diag(r)\n",
    "print(a.eval())"
   ]
  },
  {
   "cell_type": "code",
   "execution_count": null,
   "metadata": {},
   "outputs": [],
   "source": [
    "c = tf.reshape(a, (2, 8))\n",
    "c.eval()"
   ]
  },
  {
   "cell_type": "code",
   "execution_count": null,
   "metadata": {},
   "outputs": [],
   "source": [
    "c = tf.reshape(a, (8, 2))\n",
    "c.eval()"
   ]
  },
  {
   "cell_type": "code",
   "execution_count": null,
   "metadata": {},
   "outputs": [],
   "source": [
    "c = tf.reshape(a, (2, 2, 4))\n",
    "c.eval()"
   ]
  },
  {
   "cell_type": "code",
   "execution_count": null,
   "metadata": {},
   "outputs": [],
   "source": [
    "# Using expand dims and squeeze to make the math work\n",
    "a = tf.ones(2)\n",
    "print(a.get_shape())\n",
    "print(a.eval())"
   ]
  },
  {
   "cell_type": "code",
   "execution_count": null,
   "metadata": {},
   "outputs": [],
   "source": [
    "b = tf.expand_dims(a, 0)\n",
    "print(b.eval())\n",
    "print(b.get_shape())"
   ]
  },
  {
   "cell_type": "code",
   "execution_count": null,
   "metadata": {},
   "outputs": [],
   "source": [
    "c = tf.expand_dims(a, 1)\n",
    "print(c.eval())\n",
    "print(c.get_shape())"
   ]
  },
  {
   "cell_type": "code",
   "execution_count": null,
   "metadata": {},
   "outputs": [],
   "source": [
    "# Squeeze auto removes any dimmension of 1\n",
    "d = tf.squeeze(c)\n",
    "e = tf.squeeze(b)\n",
    "print(d.eval())\n",
    "print(e.eval())"
   ]
  },
  {
   "cell_type": "code",
   "execution_count": null,
   "metadata": {},
   "outputs": [],
   "source": [
    "# Broatcasting is when you add tensors of different sizes by different\n",
    "# rules (per row, each column, patterns, etc)\n",
    "a = tf.ones((2, 2))\n",
    "a.eval()"
   ]
  },
  {
   "cell_type": "code",
   "execution_count": null,
   "metadata": {},
   "outputs": [],
   "source": [
    "b = tf.range(0, 2, 1, dtype=tf.float32)\n",
    "b.eval()"
   ]
  },
  {
   "cell_type": "code",
   "execution_count": null,
   "metadata": {},
   "outputs": [],
   "source": [
    "c = a + b\n",
    "c.eval()"
   ]
  },
  {
   "cell_type": "code",
   "execution_count": null,
   "metadata": {},
   "outputs": [],
   "source": [
    "# Note that tensorflow doesn't perform implicit type casting\n",
    "# It will throw an error if the types do not match\n",
    "a = tf.ones((2, 2), dtype=tf.int32)\n",
    "b = tf.ones((2, 2), dtype=tf.float32)\n",
    "c = a + b"
   ]
  },
  {
   "cell_type": "code",
   "execution_count": null,
   "metadata": {},
   "outputs": [],
   "source": [
    "# Declarative vs imiperative programming\n",
    "# Imperative - instructing the computer to perform an action directly\n",
    "a = 1\n",
    "b = 2\n",
    "c = a + b\n",
    "c"
   ]
  },
  {
   "cell_type": "code",
   "execution_count": null,
   "metadata": {},
   "outputs": [],
   "source": [
    "# Declarative - specifies the computation, but not carried out on the spot\n",
    "a = tf.constant(3)\n",
    "b = tf.constant(4)\n",
    "c = a + b\n",
    "c"
   ]
  },
  {
   "cell_type": "code",
   "execution_count": null,
   "metadata": {},
   "outputs": [],
   "source": [
    "# Tensors and operations are auto added to a graph object called\n",
    "# the default graph (if a different graph is not specified)\n",
    "tf.get_default_graph()"
   ]
  },
  {
   "cell_type": "code",
   "execution_count": null,
   "metadata": {},
   "outputs": [],
   "source": [
    "# Sessions are an object that stores the context under which a\n",
    "# computation is performed. You can specify which session to use\n",
    "sess = tf.Session()\n",
    "a = tf.ones((2,2))\n",
    "b = tf.matmul(a, a)\n",
    "b.eval(session=sess)"
   ]
  },
  {
   "cell_type": "code",
   "execution_count": null,
   "metadata": {},
   "outputs": [],
   "source": [
    "# Same but with different syntax\n",
    "sess.run(b)"
   ]
  },
  {
   "cell_type": "code",
   "execution_count": null,
   "metadata": {},
   "outputs": [],
   "source": [
    "# Variables allow for stateful computations\n",
    "a = tf.Variable(tf.ones((2,2)))\n",
    "a"
   ]
  },
  {
   "cell_type": "code",
   "execution_count": null,
   "metadata": {},
   "outputs": [],
   "source": [
    "# Variables have to be explicitly initialized\n",
    "a.eval()"
   ]
  },
  {
   "cell_type": "code",
   "execution_count": null,
   "metadata": {},
   "outputs": [],
   "source": [
    "sess = tf.Session()\n",
    "sess.run(tf.global_variables_initializer())\n",
    "a.eval(session=sess)"
   ]
  },
  {
   "cell_type": "code",
   "execution_count": null,
   "metadata": {},
   "outputs": [],
   "source": [
    "# We can assign a value to a variable within a session\n",
    "sess.run(a.assign(tf.zeros((2,2))))"
   ]
  },
  {
   "cell_type": "code",
   "execution_count": null,
   "metadata": {},
   "outputs": [],
   "source": [
    "sess.run(a)"
   ]
  },
  {
   "cell_type": "code",
   "execution_count": null,
   "metadata": {},
   "outputs": [],
   "source": [
    "sess.run(a.assign(tf.zeros(3,3)))"
   ]
  },
  {
   "cell_type": "code",
   "execution_count": null,
   "metadata": {},
   "outputs": [],
   "source": []
  }
 ],
 "metadata": {
  "kernelspec": {
   "display_name": "Python [conda env:vectorize]",
   "language": "python",
   "name": "conda-env-vectorize-py"
  },
  "language_info": {
   "codemirror_mode": {
    "name": "ipython",
    "version": 3
   },
   "file_extension": ".py",
   "mimetype": "text/x-python",
   "name": "python",
   "nbconvert_exporter": "python",
   "pygments_lexer": "ipython3",
   "version": "3.5.4"
  }
 },
 "nbformat": 4,
 "nbformat_minor": 2
}
