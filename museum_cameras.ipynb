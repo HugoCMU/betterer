{
 "cells": [
  {
   "cell_type": "markdown",
   "metadata": {},
   "source": [
    "## Museum Cameras\n",
    "\n",
    "This is a computational geometry problem.\n",
    "\n",
    "Sources:\n",
    "- [1] https://www.reddit.com/r/dailyprogrammer/comments/41346z/20160115_challenge_249_hard_museum_cameras/"
   ]
  },
  {
   "cell_type": "markdown",
   "metadata": {},
   "source": [
    "### Question:\n",
    "\n",
    "You run a museum, and you have a small budget - but you have to protect the museum with cameras. Given some descriptions of rooms, can you organize the smallest number of cameras to view the whole room?\n",
    "\n",
    "Some assumptions and other factors for you to work with:\n",
    "\n",
    "Cameras can't see around corners.\n",
    " - You can only place cameras in corners.\n",
    " - Assume every camera has a field of view of 180 degrees, yielding a semicircular field of view.\n",
    " - Assume every camera's field of view will be equal to the left and right of the line in the corner where the camera is placed; this line bisects the angle of the corner. The camera points away from the corner.\n",
    " - Assume every camera has an otherwise infinite view.\n",
    "\n",
    "*INPUT*\n",
    "\n",
    "You'll be given a row with a single number N that tells you how many points to read. Then on the next line you'll be given N points in a Cartesian coordinate space to draw the bounding box of the museum room. For example:\n",
    "```\n",
    "3\n",
    "(0,0) (3,6) (6,0)\n",
    "```\n",
    "\n",
    "*OUTPUT*\n",
    "\n",
    "Your program should emit the position of the cameras needed to cover the area. From our example:\n",
    "```\n",
    "(0,0)\n",
    "```\n",
    "That's one possible solution (for this one any of the corners would have worked).\n",
    "\n",
    "If the shape has no solution, emit something like \"The architect has no concept of security\" because maybe they're collaborating with art theives."
   ]
  },
  {
   "cell_type": "markdown",
   "metadata": {},
   "source": [
    "### Solution (Thoughts...)\n",
    "\n",
    "So I think the biggest thing to our advantage here is that this problem is constrained to 2D.\n",
    "\n",
    "Given the FOV of the camera, and the certain placement within the center angle of a corner, we can probably calculate the coverage of the space from a single camera. This will probably involve calculating intersection points of lines? Since we can't see through corners\n",
    "\n",
    "Then once we know the coverage of a certain camera it becomes a permutation problem about finding the least number of cameras that can fully cover the space. Noting that we have to exhaustively try out all combinations because there is the possibility of no solution.\n",
    "\n",
    "The question offers an [article](https://www.redblobgames.com/articles/visibility/) as inspiration. It seems like raycasting from the camera's perspective is the way to go. Taking special care about corners is also important and probably a way to speed up computation.\n",
    "\n",
    "Some basic utilities I think we will need are:\n",
    " - Intersection check between two lines (where it happens? radial distance from camera?)\n",
    " - Line conversion to polar coordinates for ray casting? Does polar make this problem easier or harder?\n",
    " - Some kind of coverage analyzer. How do you know if a space is fully covered?\n",
    " - Plotting for debugging\n",
    " \n",
    "Just had a different idea. What if you went along each discretized unit of wall space and checked whether it was visible from any of the cameras.\n",
    "\n",
    "Which just made me think about another difficulty here: outside corners. How do you know which direction the camera needs to face?"
   ]
  },
  {
   "cell_type": "markdown",
   "metadata": {
    "ExecuteTime": {
     "end_time": "2018-02-23T02:13:38.297700Z",
     "start_time": "2018-02-23T02:13:38.227024Z"
    }
   },
   "source": [
    "Lets write some pseudo code. Using a high to low approach (write the higher level loops then delve deeper defining the needed utilities)\n",
    "\n",
    "```\n",
    "# High to low (this is the final loop)\n",
    "best_permutation = 'Not possible'\n",
    "for camera_permutation in camera_permutations:\n",
    "    if allvisible(camera_permutation, room) and len(camera_permutation) < best_permutation:\n",
    "        best_permutation = camera_permutation\n",
    "print('The best camera setup is: ', best_permutation)\n",
    "\n",
    "# One level lower\n",
    "def allvisible(camera_list, room):\n",
    "    segments = wall_segments(room)\n",
    "    visible_segments = []\n",
    "    for camera in camera_list:\n",
    "        for angle in range(camera.min_angle, camera.max_angle):\n",
    "            for segment in segments:\n",
    "                if intersect(camera, angle, segment):\n",
    "                    segments.pop(segment)\n",
    "                    visible_segments.append(segment)\n",
    "    if len(segments) == 0:\n",
    "        return True\n",
    "    return False\n",
    "```\n",
    "\n",
    "I dont like all the nested loops in this. As well as having to discretize the walls in the room"
   ]
  },
  {
   "cell_type": "code",
   "execution_count": null,
   "metadata": {},
   "outputs": [],
   "source": [
    "from collections import namedtuple\n",
    "\n",
    "# Some custom tuples for this problem\n",
    "Point = namedtuple('Point', ['x', 'y'])\n",
    "Wall = namedtuple('Wall', ['p1', 'p2'])\n",
    "Camera = namedtuple('Camera', ['p', 'min_angle', 'max_angle'])\n"
   ]
  }
 ],
 "metadata": {
  "kernelspec": {
   "display_name": "Python 3",
   "language": "python",
   "name": "python3"
  },
  "language_info": {
   "codemirror_mode": {
    "name": "ipython",
    "version": 3
   },
   "file_extension": ".py",
   "mimetype": "text/x-python",
   "name": "python",
   "nbconvert_exporter": "python",
   "pygments_lexer": "ipython3",
   "version": "3.5.4"
  }
 },
 "nbformat": 4,
 "nbformat_minor": 2
}
