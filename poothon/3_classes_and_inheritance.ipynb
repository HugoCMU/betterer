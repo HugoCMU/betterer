{
 "cells": [
  {
   "cell_type": "markdown",
   "metadata": {},
   "source": [
    "## Classes and Inheritance\n",
    "Some best practices regarding Classes and Inheritance in Python. This follows from examples in:\n",
    "\n",
    "[1] Effective Python: 59 Specific Ways to Write Better Python"
   ]
  },
  {
   "cell_type": "markdown",
   "metadata": {},
   "source": [
    "### 22\n",
    "Prefer helper classes over bookeeping with dictionaries and tuples"
   ]
  },
  {
   "cell_type": "code",
   "execution_count": 1,
   "metadata": {
    "ExecuteTime": {
     "end_time": "2018-01-26T09:09:12.534196Z",
     "start_time": "2018-01-26T09:09:12.529895Z"
    }
   },
   "outputs": [],
   "source": [
    "import collections\n",
    "# Used named tuples for simple immutable data classes\n",
    "Grade = collections.namedtuple('Grade', ('score', 'weight'))\n",
    "\n",
    "# Move bookeeping code to use multiple helper classes when internal state dictionaries start getting complicated.\n",
    "# Aka If you see yourself making dictionaries that contain other dictionaries or long tuples"
   ]
  },
  {
   "cell_type": "markdown",
   "metadata": {},
   "source": [
    "### 23\n",
    "Accept functions for simple interfaces instead of classes"
   ]
  },
  {
   "cell_type": "code",
   "execution_count": null,
   "metadata": {},
   "outputs": [],
   "source": []
  }
 ],
 "metadata": {
  "kernelspec": {
   "display_name": "Python 3",
   "language": "python",
   "name": "python3"
  },
  "language_info": {
   "codemirror_mode": {
    "name": "ipython",
    "version": 3
   },
   "file_extension": ".py",
   "mimetype": "text/x-python",
   "name": "python",
   "nbconvert_exporter": "python",
   "pygments_lexer": "ipython3",
   "version": "3.6.3"
  }
 },
 "nbformat": 4,
 "nbformat_minor": 2
}
